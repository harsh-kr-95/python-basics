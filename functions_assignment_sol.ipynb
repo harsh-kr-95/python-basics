{
  "nbformat": 4,
  "nbformat_minor": 0,
  "metadata": {
    "colab": {
      "provenance": []
    },
    "kernelspec": {
      "name": "python3",
      "display_name": "Python 3"
    },
    "language_info": {
      "name": "python"
    }
  },
  "cells": [
    {
      "cell_type": "markdown",
      "source": [
        "1. What is the difference between a function and a method in Python?\n",
        "   - In Python, a function and a method both are blocks of code that can be executed multiple times from different parts of our program. However, there are some key differences:\n",
        "\n",
        "   - Function\n",
        "     - Stand-alone: A function is a self-contained block of code that can be called independently.\n",
        "     - Not bound to any class: A function is not associated with any particular class or object.\n",
        "     - No implicit arguments: When calling a function, we must explicitly pass all required arguments.\n",
        "\n",
        "   - Method\n",
        "     - Bound to a class or object: A method is a block of code that is associated with a particular class or object.\n",
        "     - Part of a class definition: Methods are defined inside a class definition.\n",
        "     - Implicit arguments: When calling a method, the instance of the class (referenced by self) is passed implicitly as the first argument.\n",
        "\n",
        "     - Some simple example to illustrate the difference:\n",
        "\n",
        "\n",
        "    ''' # Function\n",
        "    def greetings(name):\n",
        "    print(f\"Hello, {name}!\")\n",
        "\n",
        "    # Method\n",
        "    class Person:\n",
        "    def __init__(self, name):\n",
        "        self.name = name\n",
        "\n",
        "    def greetings(self):\n",
        "        print(f\"Hello, my name is {self.name}!\")\n",
        "\n",
        "    # Calling the function\n",
        "    greet(\"Harsh\")\n",
        "\n",
        "    # Creating an instance and calling the method\n",
        "    person = Person(\"Harsh\")\n",
        "    person.greet()\n",
        "----------------\n",
        "--------------------------------------------------------------------\n",
        "2. Explain the concept of function arguments and parameters in Python.\n",
        "   - In Python, function arguments and parameters are related concepts, enable functions to accept and process input values.\n",
        "\n",
        "   - Function Parameters\n",
        "     - Parameters are the names listed in the definition of function.\n",
        "     - These are the variables which accept the input values passed to the function.\n",
        "     - Parameters are defined inside the parentheses of the function definition.\n",
        "\n",
        "   - Function Arguments\n",
        "     - Arguments are the actual values passed to a function when it's called.\n",
        "     - They can be literals, variables, or expressions.\n",
        "     - Arguments are passed to the function inside the parentheses of the function call.\n",
        "\n",
        "\n",
        "    def greet(name, message):  # name and message are parameters\n",
        "    print(f\"{message}, {name}!\")\n",
        "\n",
        "    greet(\"harsh\", \"Hello\")  # \"harsh\" and \"Hello\" are arguments\n",
        "\n",
        "-------------------------------------------\n",
        "--------------------------------------------------------------------------\n",
        "3. What are the different ways to define and call a function in Python?\n",
        "   - Python has several ways to define and call functions:\n",
        "\n",
        "   - a Standard Function Definition\n",
        "\n",
        "\n",
        "    def function_name(parameters):\n",
        "    # function body\n",
        "    pass\n",
        "\n",
        "\n",
        "  - b Lambda Functions (Anonymous Functions)\n",
        "\n",
        "\n",
        "    function_name = lambda parameters: expression\n",
        "\n",
        "\n",
        "  - c Nested Functions\n",
        "\n",
        "    \n",
        "    def outer_function():\n",
        "    def inner_function():\n",
        "        # inner function body\n",
        "        pass\n",
        "    # outer function body\n",
        "    pass\n",
        "\n",
        "\n",
        "  - d Higher-Order Functions (Functions as Arguments or Return Values)\n",
        "\n",
        "    \n",
        "    def higher_order_function(func):\n",
        "    # function body\n",
        "    pass\n",
        "\n",
        "\n",
        "  - e *Generator Functions (Using yield Instead of return)*\n",
        "\n",
        "\n",
        "    def generator_function():\n",
        "    yield value\n",
        "\n",
        "\n",
        "  - f *Async Functions (Asynchronous Functions Using async and await)*\n",
        "\n",
        "    \n",
        "    async def async_function():\n",
        "    # function body\n",
        "    await expression\n",
        "\n",
        "\n",
        "   - g. Function Decorators (Modifying Function Behavior)\n",
        "\n",
        "\n",
        "    def decorator_function(original_function):\n",
        "    def wrapper_function():\n",
        "        # wrapper function body\n",
        "        pass\n",
        "    return wrapper_function\n",
        "\n",
        "\n",
        "  - Function Calling\n",
        "    To call a function, simply use the function name followed by parentheses containing the required arguments:\n",
        "\n",
        "\n",
        "--------------------------------------------------------------------\n",
        "-----------------\n",
        "4.  What is the purpose of the `return` statement in a Python function?\n",
        "    - The return statement in a Python function has several purposes:\n",
        "\n",
        "      -  Exiting the Function\n",
        "When a return statement is encountered, the function immediately stops executing, and control is returned to the caller.\n",
        "\n",
        "     - Returning Multiple Values\n",
        "Python allows us to return multiple values from a function by using the return statement. We can do this by separating the values with commas.\n",
        "\n",
        "      - Returning a Value\n",
        "The return statement can be used to return a value from the function. This value can be any Python object, such as a number, string, list, dictionary, etc.\n",
        "\n",
        "      - Returning None\n",
        "If a function doesn't return a value, it will return None by default.\n",
        "\n",
        "      - Short-Circuiting\n",
        "The return statement can short-circuit a function, exiting early if a certain condition is met.\n",
        "\n",
        "- example:\n",
        "\n",
        "\n",
        "    def greeting(name):\n",
        "    if not name:\n",
        "        return  # Exit early if name is empty\n",
        "    print(f\"Hi, {name}!\")\n",
        "\n",
        "    greeting(\"harsh\")  # Output: hi, harsh!\n",
        "    greeting(\"\")  # No output\n",
        "\n",
        "-----------------\n",
        "------------\n",
        "5.  What are iterators in Python and how do they differ from iterables?\n",
        "    - Iterators and iterables are two fundamental concepts in Python which facilitate working with sequences, like lists, tuples, dictionaries, and sets.\n",
        "\n",
        "    - Iterables--\n",
        "Iterables are objects that can be iterated over, which means that these can be looped through or have their elements accessed one at a time. Examples of iterables are:\n",
        "\n",
        "      - Lists ([1, 2, 3])\n",
        "      - Tuples ((1, 2, 3))\n",
        "      - Dictionaries ({'a': 1, 'b': 2})\n",
        "      - Sets ({1, 2, 3})\n",
        "      - Strings ('hello')\n",
        "\n",
        "   - We can check if an object is iterable using the isinstance() function with the collections.abc.Iterable abstract base class:\n",
        "\n",
        "\n",
        "    from collections.abc import Iterable\n",
        "\n",
        "    my_list = [10, 25, 40]\n",
        "    print(isinstance(my_list, Iterable))  # Output: True\n",
        "\n",
        "\n",
        "  - Iterators--\n",
        "Iterators are objects that enable traversal over an iterable. They keep track of their current position and provide access to the next element in sequence. It raises a StopIteration exception when it is exhausted.\n",
        "\n",
        "We can create an iterator from an iterable using the iter() function:\n",
        "\n",
        "\n",
        "    my_list = [11, 24, 37]\n",
        "    my_iterator = iter(my_list)\n",
        "\n",
        "    print(next(my_iterator))  # Output: 11\n",
        "    print(next(my_iterator))  # Output: 24\n",
        "    print(next(my_iterator))  # Output: 37\n",
        "\n",
        "    # Raises StopIteration exception\n",
        "    try:\n",
        "    print(next(my_iterator))\n",
        "    except StopIteration:\n",
        "    print(\"Iterator exhausted\")\n",
        "\n",
        "\n",
        "Key differences:\n",
        "\n",
        "- Iterables: Objects that can be iterated over.\n",
        "- Iterators: Objects that enable traversal over an iterable, keeping track of their current position.\n",
        "\n",
        "--------------\n",
        "----------------\n",
        "6.   Explain the concept of generators in Python and how they are defined.\n",
        "     - Generators are a type of iterable in python, like lists or tuples. But, unlike lists, generators do not store all their values in memory. Instead, generators compute their values on-the-fly, which makes them memory-efficient.\n",
        "\n",
        "     - Defining a Generator\n",
        "A generator is defined using a function, but instead of using the return statement, we use the yield statement. When a generator is called, it doesn't execute immediately. Instead, it returns a generator object.\n",
        "\n",
        "     - example:\n",
        "\n",
        "\n",
        "    def infinite_sequence():\n",
        "    num = 0\n",
        "    while True:\n",
        "        yield num\n",
        "        num += 2\n",
        "\n",
        "    gen = infinite_sequence()\n",
        "    print(next(gen))  # Output: 0\n",
        "    print(next(gen))  # Output: 2\n",
        "    print(next(gen))  # Output: 4\n",
        "\n",
        "\n",
        "\n",
        "-----------------------\n",
        "---------------------------\n",
        "\n",
        "7. What are the advantages of using generators over regular functions?\n",
        "   - Generators offer many advantages over regular functions:\n",
        "\n",
        "     - Memory Efficiency----\n",
        "Generators store only the current state, making them ideal for large datasets. Whereas regular functions store all the values in memory.\n",
        "\n",
        "    - Lazy Evaluation----\n",
        "Generators compute values on the fly, reducing unwanted computations. Regular functions compute all values upfront.\n",
        "\n",
        "    - Improved Performance----\n",
        "Generators can improve performance by avoiding the store and processing of large amounts of data.\n",
        "\n",
        "    - Flexibility----\n",
        "Generators can be used to create complex data pipelines, allowing more flexibility in data processing.\n",
        "\n",
        "    - Infinite Sequences----\n",
        "Generators can be used to create infinite sequences, which is not possible with regular functions.\n",
        "\n",
        "    - Efficient Iteration----\n",
        "Generators allow for efficient iteration over large datasets, reducing memory usage and improving performance.\n",
        "\n",
        "   - Async-Friendly----\n",
        "Generators are async-friendly, making them suitable for use in asynchronous programming.\n",
        "\n",
        "-------------\n",
        "------------\n",
        "8. What is a lambda function in Python and when is it typically used?\n",
        "   - A lambda function, also known as an anonymous function, is a small, single-purpose function in Python. It's defined using the lambda keyword and can take any number of arguments, but can only have one expression.\n",
        "\n",
        "  - Syntax\n",
        "\n",
        "  - lambda arguments: expression\n",
        "\n",
        "\n",
        "  - Example\n",
        "\n",
        "\n",
        "    double = lambda x: x * 2\n",
        "    print(double(5))  # Output: 10\n",
        "\n",
        "\n",
        "- Use Cases\n",
        "\n",
        "- I. One-time use:---- Lambda functions are ideal for one-time use, when we need to pass a small function as an argument to another function.\n",
        "- II. Event handling:---- Lambda functions can also be used as event handler, such as when a button is clicked.\n",
        "- III. Data processing:---- Lambda functions can be used to perform simple data transformations, such as filtering or mapping.\n",
        "- VI. Functional programming:---- Lambda functions are a key concept in functional programming, allowing us to create small, composable functions.\n",
        "\n",
        "\n",
        "-------------\n",
        "------------\n",
        "9. Explain the purpose and usage of the `map()` function in Python.\n",
        "   - The map() function in Python is a built-in function that applies a given function to each item of an iterable (such as a list, tuple, or string) and returns a map object.\n",
        "   \n",
        "   - The primary purpose of the map() function is to:\n",
        "\n",
        "     - a. Transform data:---- Apply a transformation function to each element of an iterable.\n",
        "     -  Perform element-wise operations:---- Apply a function to each element of an iterable, similar to a vectorized operation.\n",
        "     - syntax:- map(function, iterable)\n",
        "  \n",
        "  - Example:- to square each number:\n",
        "\n",
        "\n",
        "    num = [1, 2, 3, 4, 5]\n",
        "    # Define a function to square a number\n",
        "    def sq(x):\n",
        "    return x ** 2\n",
        "\n",
        "    # Use map() to apply the square function to each number\n",
        "    squares = list(map(sq, num))\n",
        "\n",
        "    print(squares)  # Output: [1, 4, 9, 16, 25]\n",
        "\n",
        "\n",
        "\n",
        "---------------\n",
        "---------------\n",
        "10.  What is the difference between `map()`, `reduce()`, and `filter()` functions in Python?\n",
        "     - map(), reduce(), and filter() are three fundamental functions in Python's functional programming toolkit.\n",
        "\n",
        "     - Map\n",
        "       - Purpose: Applies a given function to each item of an iterable and returns a map object.\n",
        "       - Syntax: map(function, iterable)\n",
        "       - Example: list(map(lambda x: x**2, [1, 2, 3])) → [1, 4, 9]\n",
        "\n",
        "     - Filter\n",
        "       - Purpose: Constructs an iterator from elements of an iterable for which a function returns True.\n",
        "       - Syntax: filter(function, iterable)\n",
        "       - Example: list(filter(lambda x: x % 2 == 0, [1, 2, 3, 4])) → [2, 4]\n",
        "\n",
        "     - Reduce\n",
        "       - Purpose: Applies a rolling computation on a sequence of pairs of values in an iterable.\n",
        "       - Syntax: reduce(function, iterable)\n",
        "       - Note: reduce() is part of the functools module in Python 3.\n",
        "       - Example: from functools import reduce; reduce(lambda x, y: x + y, [1, 2, 3, 4]) → 10\n",
        "\n",
        "     - Key differences:\n",
        "\n",
        "       - Map:---- Applies a function to each element, returns a new iterable.\n",
        "       - Filter:---- Applies a predicate function, returning only elements for which the function returns True.\n",
        "       - Reduce:---- Applies a function to sequential pairs of elements, reducing the iterable to a single output value.\n",
        "\n",
        "     - When to use each:\n",
        "\n",
        "       - Map: When we need to transform each element of an iterable.\n",
        "       - Filter: When we have to select a subset of elements based on a condition.\n",
        "       - Reduce: When we need to compute a single output value from an iterable.\n",
        "\n",
        "------------\n",
        "------------\n",
        "11. Using pen & Paper write the internal mechanism for sum operation using  reduce function on this given\n",
        "list:[47,11,42,13];\n",
        "\n",
        "\n",
        "\n",
        "\n",
        "\n",
        "\n",
        "\n",
        "\n",
        "\n",
        "\n",
        "\n"
      ],
      "metadata": {
        "id": "Xki1A2pyFvpn"
      }
    },
    {
      "cell_type": "code",
      "source": [
        "# 1. Write a Python function that takes a list of numbers as input and returns the sum of all even numbers in the list.\n",
        "\n",
        "def even_num_sum(numbers):\n",
        "    sum_even = 0\n",
        "    for i in numbers:\n",
        "        if i % 2 == 0:\n",
        "            sum_even += i\n",
        "    return sum_even\n",
        "even_num_sum([1,2,4,7,8,9])"
      ],
      "metadata": {
        "id": "2gAjU_PyuBYb",
        "colab": {
          "base_uri": "https://localhost:8080/"
        },
        "outputId": "8c84e4bd-53c1-4dc8-fa91-91fdfbdeb2a0"
      },
      "execution_count": 8,
      "outputs": [
        {
          "output_type": "execute_result",
          "data": {
            "text/plain": [
              "14"
            ]
          },
          "metadata": {},
          "execution_count": 8
        }
      ]
    },
    {
      "cell_type": "code",
      "source": [
        "# 2. Create a Python function that accepts a string and returns the reverse of that string.\n",
        "def string(s) :\n",
        "    return s[::-1]\n",
        "string(\"harsh kumar\")\n"
      ],
      "metadata": {
        "colab": {
          "base_uri": "https://localhost:8080/",
          "height": 35
        },
        "id": "1OaEjrJBXaI6",
        "outputId": "e1f059e0-079f-46b6-9b7b-a5cc8ce4ac55"
      },
      "execution_count": 5,
      "outputs": [
        {
          "output_type": "execute_result",
          "data": {
            "text/plain": [
              "'ramuk hsrah'"
            ],
            "application/vnd.google.colaboratory.intrinsic+json": {
              "type": "string"
            }
          },
          "metadata": {},
          "execution_count": 5
        }
      ]
    },
    {
      "cell_type": "code",
      "source": [
        "# 3.  Implement a Python function that takes a list of integers and returns a new list containing the squares of each number.\n",
        "def lst(x) :\n",
        "  new_sq_lst = []\n",
        "  for i in x :\n",
        "    new_sq_lst.append(i**2)\n",
        "  return new_sq_lst\n",
        "lst([1,2,3,4,5])\n"
      ],
      "metadata": {
        "colab": {
          "base_uri": "https://localhost:8080/"
        },
        "id": "8GVKDiOFXu5i",
        "outputId": "d117b2a5-5a22-431e-e54d-75e386febe83"
      },
      "execution_count": 12,
      "outputs": [
        {
          "output_type": "execute_result",
          "data": {
            "text/plain": [
              "[1, 4, 9, 16, 25]"
            ]
          },
          "metadata": {},
          "execution_count": 12
        }
      ]
    },
    {
      "cell_type": "code",
      "source": [
        "# 4.  Write a Python function that checks if a given number is prime or not from 1 to 200.\n",
        "def func(n) :\n",
        "  if 1<=n<=200 :\n",
        "    if n%2!=0 and n%3!=0 :\n",
        "      return \"conditon checked entered number\",n,\"is prime\"\n",
        "    elif n==2 or n==3 :\n",
        "      return \"entered number\",n,\"is prime\"\n",
        "    else :\n",
        "        return(\"entered number \",n, \"is not prime\")\n",
        "  else :\n",
        "    return \"invalid input\"\n",
        "func(3)\n",
        "\n"
      ],
      "metadata": {
        "colab": {
          "base_uri": "https://localhost:8080/"
        },
        "id": "3b8OoHwHZh43",
        "outputId": "0c119339-b95f-4758-a820-e7a4c46b633e"
      },
      "execution_count": 35,
      "outputs": [
        {
          "output_type": "execute_result",
          "data": {
            "text/plain": [
              "('entered number', 3, 'is prime')"
            ]
          },
          "metadata": {},
          "execution_count": 35
        }
      ]
    },
    {
      "cell_type": "code",
      "source": [
        "# 5. Create an iterator class in Python that generates the Fibonacci sequence up to a specified number of terms.\n",
        "def fib(n) :\n",
        "    a=0\n",
        "    b=1\n",
        "    for i in range(n) :\n",
        "        yield a\n",
        "        a,b=b,a+b\n",
        "for i in fib(10) :\n",
        "    print(i)"
      ],
      "metadata": {
        "colab": {
          "base_uri": "https://localhost:8080/"
        },
        "collapsed": true,
        "id": "kWapgn7ResmA",
        "outputId": "5c25d7c2-47aa-4961-c3ac-fb6e51042fd4"
      },
      "execution_count": 37,
      "outputs": [
        {
          "output_type": "stream",
          "name": "stdout",
          "text": [
            "0\n",
            "1\n",
            "1\n",
            "2\n",
            "3\n",
            "5\n",
            "8\n",
            "13\n",
            "21\n",
            "34\n"
          ]
        }
      ]
    },
    {
      "cell_type": "code",
      "source": [
        "# 6.  Write a generator function in Python that yields the powers of 2 up to a given exponent.\n",
        "def gen(n) :\n",
        "  for i in range(10) :\n",
        "    yield i**2\n",
        "gntr=gen(10)\n",
        "\n",
        ""
      ],
      "metadata": {
        "id": "eD0d5ZW3e87n"
      },
      "execution_count": 46,
      "outputs": []
    },
    {
      "cell_type": "code",
      "source": [
        "next(gntr)"
      ],
      "metadata": {
        "colab": {
          "base_uri": "https://localhost:8080/"
        },
        "id": "LHMqyLcThf54",
        "outputId": "ef849560-efca-47d5-cf03-e1fbb03d013b"
      },
      "execution_count": 47,
      "outputs": [
        {
          "output_type": "execute_result",
          "data": {
            "text/plain": [
              "0"
            ]
          },
          "metadata": {},
          "execution_count": 47
        }
      ]
    },
    {
      "cell_type": "code",
      "source": [
        "next(gntr)"
      ],
      "metadata": {
        "colab": {
          "base_uri": "https://localhost:8080/"
        },
        "id": "JzU3c-YchhHk",
        "outputId": "7b109883-c302-40e4-ccbd-ad0411d53b86"
      },
      "execution_count": 48,
      "outputs": [
        {
          "output_type": "execute_result",
          "data": {
            "text/plain": [
              "1"
            ]
          },
          "metadata": {},
          "execution_count": 48
        }
      ]
    },
    {
      "cell_type": "code",
      "source": [
        "next(gntr)"
      ],
      "metadata": {
        "colab": {
          "base_uri": "https://localhost:8080/"
        },
        "id": "cwOXPg5thigy",
        "outputId": "521117f9-0062-4a22-a5c8-f31ccd595509"
      },
      "execution_count": 49,
      "outputs": [
        {
          "output_type": "execute_result",
          "data": {
            "text/plain": [
              "4"
            ]
          },
          "metadata": {},
          "execution_count": 49
        }
      ]
    },
    {
      "cell_type": "code",
      "source": [
        "# 7. Implement a generator function that reads a file line by line and yields each line as a string.\n",
        "def read_file(file_path):\n",
        "    with open(file_path, 'r') as file:\n",
        "        for line in file:\n",
        "            yield line\n",
        "work=read_file(\"good and better\")\n",
        "next(work)"
      ],
      "metadata": {
        "id": "Uuvy2oKwhjdx"
      },
      "execution_count": 65,
      "outputs": []
    },
    {
      "cell_type": "code",
      "source": [
        "# 8. Use a lambda function in Python to sort a list of tuples based on the second element of each tuple.\n",
        "x=[(5,3),(9,2),(6,7),(7,4)]\n",
        "shorted_list=sorted(x, key = lambda x: x[1])\n",
        "print(shorted_list)"
      ],
      "metadata": {
        "colab": {
          "base_uri": "https://localhost:8080/"
        },
        "id": "QQ27UgfimrWh",
        "outputId": "e51657dd-7a47-4cc9-e083-7a5d4c32f51b"
      },
      "execution_count": 99,
      "outputs": [
        {
          "output_type": "stream",
          "name": "stdout",
          "text": [
            "[(9, 2), (5, 3), (7, 4), (6, 7)]\n"
          ]
        }
      ]
    },
    {
      "cell_type": "code",
      "source": [
        "# 9.  Write a Python program that uses `map()` to convert a list of temperatures from Celsius to Fahrenheit.\n",
        "def temp(celsius):\n",
        "  \"\"\"Converts Celsius to Fahrenheit.\"\"\"\n",
        "  return (celsius * 9/5) + 32\n",
        "\n",
        "celsius_temps = [0, 20, 30, 100]\n",
        "fahrenheit_temps = list(map(temp, celsius_temps))\n",
        "\n",
        "print(\"Celsius temperatures:\", celsius_temps)\n",
        "print(\"Fahrenheit temperatures:\", fahrenheit_temps)"
      ],
      "metadata": {
        "colab": {
          "base_uri": "https://localhost:8080/"
        },
        "id": "K7z91d6YuF0L",
        "outputId": "f6a87d73-e25e-471f-bb17-d83ba47aaa54"
      },
      "execution_count": 108,
      "outputs": [
        {
          "output_type": "stream",
          "name": "stdout",
          "text": [
            "Celsius temperatures: [0, 20, 30, 100]\n",
            "Fahrenheit temperatures: [32.0, 68.0, 86.0, 212.0]\n"
          ]
        }
      ]
    },
    {
      "cell_type": "code",
      "source": [
        "# 10. Create a Python program that uses `filter()` to remove all the vowels from a given string.\n",
        "def removal(string):\n",
        "    vowels = 'aeiouAEIOU'\n",
        "    filtered_string = ''.join(filter(lambda char: char not in vowels, string))\n",
        "    return filtered_string\n",
        "    removal()"
      ],
      "metadata": {
        "id": "EmKpLzbw6kTX"
      },
      "execution_count": 115,
      "outputs": []
    },
    {
      "cell_type": "code",
      "source": [
        "# 11. Imagine an accounting routine used in a book shop. It works on a list with sublists, which look like this:\n",
        "'''Write a Python program, which returns a list with 2-tuples. Each tuple consists of the order number and the\n",
        "   product of the price per item and the quantity. The product should be increased by 10,- € if the value of the\n",
        "   order is smaller than 100,00 €.\n",
        "   Write a Python program using lambda and map.'''\n",
        "\n",
        "# Data_of_shop\n",
        "orders = [\n",
        "    [34587, \"Learning Python, Mark Lutz\", 4, 40.95],\n",
        "    [98762, \"Programming Python, Mark Lutz\", 5, 56.80],\n",
        "    [77226, \"Head First Python, Paul Barry\", 3, 32.95],\n",
        "    [88112, \"Einführung in Python3, Bernd Klein\", 3, 24.99]\n",
        "    ]\n",
        "\n",
        "# Using lambda and map\n",
        "result = list(map(lambda order: (\n",
        "    order[0],\n",
        "    order[2] * order[3]\n",
        "    if order[2] * order[3] >= 100\n",
        "    else order[2] * order[3] + 10), orders))\n",
        "\n",
        "print(result)"
      ],
      "metadata": {
        "colab": {
          "base_uri": "https://localhost:8080/"
        },
        "id": "OizZny2Q7PvU",
        "outputId": "3fb82e97-829b-4cb5-ce70-3e40d939c1c8"
      },
      "execution_count": 116,
      "outputs": [
        {
          "output_type": "stream",
          "name": "stdout",
          "text": [
            "[(34587, 163.8), (98762, 284.0), (77226, 108.85000000000001), (88112, 84.97)]\n"
          ]
        }
      ]
    }
  ]
}