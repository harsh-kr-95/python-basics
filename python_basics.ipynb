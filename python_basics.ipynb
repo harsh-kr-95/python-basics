{
  "nbformat": 4,
  "nbformat_minor": 0,
  "metadata": {
    "colab": {
      "provenance": []
    },
    "kernelspec": {
      "name": "python3",
      "display_name": "Python 3"
    },
    "language_info": {
      "name": "python"
    }
  },
  "cells": [
    {
      "cell_type": "markdown",
      "source": [
        "1.  What is python and why is it so popular?\n",
        "    - Python is a high level interpreted programming language which is used for various purpose like web development, app development, data science and analysing, Ai&Ml tasks.\n",
        "    - Python is popular for various reasons like :\n",
        "     - Easy to learn and beginner friendly\n",
        "     - Simple syntex and easy to understand\n",
        "     - Python is a cross-platform programming language so we can easily run it on various OS like android, macOS, widows and linux\n",
        "    - It has various libraries for various tasks such as data sciene, web develpment and for Ai and Ml tasks etc.\n",
        "    - Widely used in teach industry for rapid development and prototyping\n",
        "\n",
        "2.  What is an interpreter in python?\n",
        "    - In python interpreter is a program which converts the human readable instruction to machine executable code.\n",
        "     Interpreter directly executes the python code line by line without compiling it into machine code first.\n",
        "      \n",
        "3.  What are pre-defined keywords in python?\n",
        "   - Pre-defined keywords are the reserved words which are specificaly reserved for specific tasks that have special meaning and cannot be used as a variable.\n",
        "   - Example: and, for, break, else, def, type etc.\n",
        "\n",
        "4.  Can keywords be used as variable names?\n",
        "   - No keywords cannot be used as variable as keywords are reserved for specific tasks that have special meaning and use in code using keywords as variable will give error in code.\n",
        "\n",
        "5.  What is mutability in python?  \n",
        "    - Mutability in python refers to the ability to  change or to add a value after it is created\n",
        "     Example of mutable objects: list, dictionary, etc.\n",
        "\n",
        "6.  Why are lists mutable, but tuples are immutable?\n",
        "    - Lists[ ] are mutable because lists are stored as arrays that can be grown or shrunk dynamically.\n",
        "    - Whereas tuples{ } are stored as static arrays which cannot be modified after creation.\n",
        "\n",
        "7.  What is the difference between \"==\" and \"is\"     operators in python?\n",
        "    - In python both “==” and “is” have different purpose and use case as follows:-\n",
        "     - “==” operator is used to check if the value of two different object is same.\n",
        "     - Whereas the “is” operator is used to check if refers to the same memory location\n",
        "8.  What are logical operators in python?\n",
        "\n",
        "    - In python logical operators are used to get output from given condition using the following operators:-\n",
        "     - And- give true if both condition are true,\n",
        "     - Or- give true even if one condition is true,\n",
        "     - Not- reverse the result.\n",
        "\n",
        "9.  What is type casting in python?\n",
        "    - In python typecasting is the process of changing the data type of a variable, value or expression.\n",
        "    \n",
        "10. What is the differene between implicit and      explicit type casting in python?\n",
        "    - There are two type of typecasting in python as:\n",
        "      - 1 Implicit type casting- python automatically converts data types in python e.g. “hello” + 42 will become “hello42”.\n",
        "      - 2 Explicit type casting- User have to convert the data type of the variable or value by himself/herself using the built-in functions int(), float(), str(), bool().\n",
        "      \n",
        "11. What is the purpose of conditional statements in python?\n",
        "    - In python conditional statements are used to control the flow of a program on the basis of conditional requirements. This allows us to execute a particular block of code when certain conditions are met.\n",
        "    - Types:\n",
        "           - if-else\n",
        "           - if-elif-else\n",
        "           - nested if\n",
        "\n",
        "12. How does the elif sttement work?\n",
        "    - In python the elif statement is to select desired condition/s based on the specific requirements. Elif is the combination of if and else statements to  check and execute different block of codes.\n",
        "    - Syntax:\n",
        "      - if  condition:\n",
        "        # #…………………\n",
        "      - elif  condition:\n",
        "        # #…………………..\n",
        "      - else  condition:\n",
        "        # #…………………\n",
        "\n",
        "13. What is the difference between for and while loops?\n",
        "    - For and while loops are used in iteraeion, but serves different purposes.\n",
        "    - For loop:\n",
        "        - 1. Iterate over a sequence and the starting and ending point of the sequence is mentioned in the beginning of the code.\n",
        "        - 2. Python automatically manages the index so we don't need to increment or decrement it.\n",
        "        - 3. Easy to read especially with sequences.\n",
        "\n",
        "    - While loop:\n",
        "        - 1. Iterate the loop as long as the condition is true.\n",
        "        - 2. Need to manually manage the index, which may cause error if not done properly.\n",
        "        - 3. Offers more flexibility as we can change the loop condition dynamically.\n",
        "14.   Describe a scenario where a while loop is more suitable than a for loop?\n",
        "      - If we build a game to guess a random number from 1 to 100, and the keep asking the player for inputs untill they guess the correct number.\n",
        "      - In this scenario we don't know how many attempts the player will take to guess the correct number. So while loop is preffered over for loop when we don't know how long will the loop iterate.\n",
        "\n",
        "\n",
        "\n",
        "    \n",
        "\n",
        "\n",
        "   "
      ],
      "metadata": {
        "id": "0coFD5pzFNzY"
      }
    },
    {
      "cell_type": "markdown",
      "source": [
        "***ASSIGNMENT CODES BELOW***"
      ],
      "metadata": {
        "id": "pUpWzrJLR9Ht"
      }
    },
    {
      "cell_type": "code",
      "source": [
        "# 1. Write a python program to print hello world.\n",
        "print('HELLO, WORLD!')"
      ],
      "metadata": {
        "colab": {
          "base_uri": "https://localhost:8080/"
        },
        "id": "e8tZMlIJwbBN",
        "outputId": "f762f579-ed8f-4a48-aaf5-c980c0ab318a"
      },
      "execution_count": null,
      "outputs": [
        {
          "output_type": "stream",
          "name": "stdout",
          "text": [
            "HELLO, WORLD!\n"
          ]
        }
      ]
    },
    {
      "cell_type": "code",
      "source": [
        "# 2. Writ a python program that desplays your name and age.\n",
        "name = 'HARSH KUMAR'\n",
        "age= 23\n",
        "print(\"my name is \",name, \"and I'm \",age,\"years old\")"
      ],
      "metadata": {
        "colab": {
          "base_uri": "https://localhost:8080/"
        },
        "id": "_zRKI5jRxGBG",
        "outputId": "affb09c1-dd89-4a74-d69f-d4bdae27fa07"
      },
      "execution_count": null,
      "outputs": [
        {
          "output_type": "stream",
          "name": "stdout",
          "text": [
            "my name is  HARSH KUMAR and I'm  23 years old\n"
          ]
        }
      ]
    },
    {
      "cell_type": "code",
      "source": [
        "# 3. Write a code to print all the pre-defined keywords in python using the keyword library.\n",
        "print(help('keywords'))"
      ],
      "metadata": {
        "colab": {
          "base_uri": "https://localhost:8080/"
        },
        "id": "DoANIRlhzB8g",
        "outputId": "b9d8705c-9d1b-49be-b6d7-4d20895b6f3d"
      },
      "execution_count": null,
      "outputs": [
        {
          "output_type": "stream",
          "name": "stdout",
          "text": [
            "\n",
            "Here is a list of the Python keywords.  Enter any keyword to get more help.\n",
            "\n",
            "False               class               from                or\n",
            "None                continue            global              pass\n",
            "True                def                 if                  raise\n",
            "and                 del                 import              return\n",
            "as                  elif                in                  try\n",
            "assert              else                is                  while\n",
            "async               except              lambda              with\n",
            "await               finally             nonlocal            yield\n",
            "break               for                 not                 \n",
            "\n",
            "None\n"
          ]
        }
      ]
    },
    {
      "cell_type": "code",
      "source": [
        "# 4. Write a program that checks if a given word is a python keyword.\n",
        "import keyword\n",
        "word = input(\"Enter a word to check if it's a Python keyword: \")\n",
        "\n",
        "if keyword.iskeyword(word):\n",
        "  print(f\"'{word}' is a Python keyword.\")\n",
        "else:\n",
        "  print(f\"'{word}' is not a Python keyword.\")"
      ],
      "metadata": {
        "colab": {
          "base_uri": "https://localhost:8080/"
        },
        "id": "Wc84Teun0AMw",
        "outputId": "da96c0be-a226-4595-d634-0935f9351127"
      },
      "execution_count": null,
      "outputs": [
        {
          "output_type": "stream",
          "name": "stdout",
          "text": [
            "Enter a word to check if it's a Python keyword: else\n",
            "'else' is a Python keyword.\n"
          ]
        }
      ]
    },
    {
      "cell_type": "code",
      "source": [
        "''' 5. Create a list and tuple in python, and demonstrate how attempting to change\n",
        "an element works differently for each.'''\n",
        "list_a=[3,'hello',4.64,5+9j]\n",
        "\n",
        "list_a[2]=\"a float number\"\n",
        "print(list_a)\n",
        "\n",
        "\n",
        "\n",
        "tuple_b=(5,'work',3.14,16+3j)\n",
        "\n",
        "# Attempting to change an element in a tuple will raise a TypeError\n",
        "try:\n",
        "  tuple_b[1] = \"tried\"\n",
        "except TypeError as e:\n",
        "  print(\"\\nAttempting to change an element in a tuple results in a TypeError\")"
      ],
      "metadata": {
        "colab": {
          "base_uri": "https://localhost:8080/"
        },
        "id": "P24RP_QM0s0G",
        "outputId": "7cc737d2-bd14-428c-f1e3-8cfd43bc4dbd"
      },
      "execution_count": 4,
      "outputs": [
        {
          "output_type": "stream",
          "name": "stdout",
          "text": [
            "[3, 'hello', 'a float number', (5+9j)]\n",
            "\n",
            "Attempting to change an element in a tuple results in a TypeError\n"
          ]
        }
      ]
    },
    {
      "cell_type": "code",
      "source": [
        "# 6. Write a function to demonstrate the behavior of mutable and immutable arguments.\n",
        "\n",
        "def demonstrate_arguments(immutable_arg, mutable_arg):\n",
        "#demo for immutable_arg\n",
        "      print(f\"initial immutable_arg value:, {immutable_arg}\")\n",
        "      immutable_arg += 3\n",
        "      print(f\"modifed immutable_arg value:, {immutable_arg}\")\n",
        "\n",
        "#demo for mutable_arg\n",
        "      print(f\"initial mutable_arg value: {mutable_arg}\")\n",
        "      mutable_arg.append(18)\n",
        "      print(f'modified mutable_arg value: {mutable_arg}')\n",
        "\n",
        "# after function call\n",
        "immutable_variable=12\n",
        "mutable_variable=[3,6,9]\n",
        "\n",
        "print(f\"before the funtion call\")\n",
        "print(f\"immutable_variable: {immutable_variable}\")\n",
        "print(f\"mutable_variable: {mutable_variable}\")\n",
        "\n",
        "# call the function\n",
        "demonstrate_arguments(immutable_variable, mutable_variable)\n",
        "\n",
        "print(\"\\nafter the functiom is call\")\n",
        "print (f\"immutable_variable value: {immutable_variable}\")\n",
        "print(f\"mutable_variable value: {mutable_variable}\")"
      ],
      "metadata": {
        "id": "Lxeje8NB5QU0",
        "colab": {
          "base_uri": "https://localhost:8080/"
        },
        "outputId": "166899ee-a616-477f-b114-4932ae6bdcaf"
      },
      "execution_count": 9,
      "outputs": [
        {
          "output_type": "stream",
          "name": "stdout",
          "text": [
            "before the funtion call\n",
            "immutable_variable: 12\n",
            "mutable_variable: [3, 6, 9]\n",
            "initial immutable_arg value:, 12\n",
            "modifed immutable_arg value:, 15\n",
            "initial mutable_arg value: [3, 6, 9]\n",
            "modified mutable_arg value: [3, 6, 9, 18]\n",
            "\n",
            "after the functiom is call\n",
            "immutable_variable value: 12\n",
            "mutable_variable value: [3, 6, 9, 18]\n"
          ]
        }
      ]
    },
    {
      "cell_type": "code",
      "source": [
        "# 7. Write a program that performs basic arithmetic operation on two user-input numbers.\n",
        "\n",
        "a=int(input(\"enter your first number\"))\n",
        "b=int(input(\"enter your second number\"))\n",
        "\n",
        "print(\"\\nmultiplication of\",a,\"and\",b,\"is\",a*b)\n",
        "print(\"addition of\",a,\"and\",b,\"is\",a+b)\n",
        "print(\"subtraction of\",a,\"and\",b,\"is\",a-b)\n",
        "print(\"division of\",a,\"and\",b,\"is\",a/b)"
      ],
      "metadata": {
        "colab": {
          "base_uri": "https://localhost:8080/"
        },
        "id": "ITfH3ugIBcqx",
        "outputId": "b0088cf2-d235-4047-ffeb-36c448045f2b"
      },
      "execution_count": 14,
      "outputs": [
        {
          "output_type": "stream",
          "name": "stdout",
          "text": [
            "enter your first number5\n",
            "enter your second number9\n",
            "\n",
            "multiplication of 5 and 9 is 45\n",
            "addition of 5 and 9 is 14\n",
            "subtraction of 5 and 9 is -4\n",
            "division of 5 and 9 is 0.5555555555555556\n"
          ]
        }
      ]
    },
    {
      "cell_type": "code",
      "source": [
        "# 8. Write a program that demonstrate the use of ligical operators.\n",
        "\n",
        "a=5\n",
        "b=6\n",
        "c=a+b\n",
        "print(a<9 and b>2)\n",
        "print(a+b==c or a==b)\n",
        "print(not c==a+b)"
      ],
      "metadata": {
        "colab": {
          "base_uri": "https://localhost:8080/"
        },
        "id": "kW0TUvoGC-ir",
        "outputId": "ec4321b9-4fcc-4569-e6a2-be4f419824c4"
      },
      "execution_count": 18,
      "outputs": [
        {
          "output_type": "stream",
          "name": "stdout",
          "text": [
            "True\n",
            "True\n",
            "False\n"
          ]
        }
      ]
    },
    {
      "cell_type": "code",
      "source": [
        "# 9. Write a python program to convert user input from string to integer,float, and boolean types.\n",
        "\n",
        "user=input(\"enter your string \")\n",
        "\n",
        "print(int(user))\n",
        "print(float(user))\n",
        "print(bool(user))"
      ],
      "metadata": {
        "colab": {
          "base_uri": "https://localhost:8080/"
        },
        "id": "PuoEuVukEiLX",
        "outputId": "53b2cdcc-bf3d-4c52-d6ba-c671b79d0948"
      },
      "execution_count": 21,
      "outputs": [
        {
          "output_type": "stream",
          "name": "stdout",
          "text": [
            "enter your string 56\n",
            "56\n",
            "56.0\n",
            "True\n"
          ]
        }
      ]
    },
    {
      "cell_type": "code",
      "source": [
        "# 10. Write a code to demonstrate type casting with list-elements.\n",
        "list_u=[2,5+3j,True,3.14,\"harsh\"]\n",
        "print(list_u)\n",
        "list_u[-1]\n",
        "list_u[2]=\"happy\"\n",
        "print(list_u)\n"
      ],
      "metadata": {
        "colab": {
          "base_uri": "https://localhost:8080/"
        },
        "id": "jknZkWRnFcSo",
        "outputId": "fdeae9f6-f069-4f5a-febb-932cc4a80b59"
      },
      "execution_count": 34,
      "outputs": [
        {
          "output_type": "stream",
          "name": "stdout",
          "text": [
            "[2, (5+3j), True, 3.14, 'harsh']\n",
            "[2, (5+3j), 'happy', 3.14, 'harsh']\n"
          ]
        }
      ]
    },
    {
      "cell_type": "code",
      "source": [
        "# 11. Write a program to check if a number is positive, negative or zero.\n",
        "a=float(input(\"enter your number\"))\n",
        "if a<0:\n",
        "  print('YOUR INPUT NUMBER IS NEGATIVE')\n",
        "elif a>=0.001:\n",
        "    print(\"YOUR INPUT NUMBER IS POSITIVE\")\n",
        "else:\n",
        "    print(\"YOUR INPUT NUMBER IS ZERO\")"
      ],
      "metadata": {
        "colab": {
          "base_uri": "https://localhost:8080/"
        },
        "id": "jUjDyixzIgvL",
        "outputId": "0c9c9391-382b-4f67-b8c3-35a950f40ed9"
      },
      "execution_count": 42,
      "outputs": [
        {
          "output_type": "stream",
          "name": "stdout",
          "text": [
            "enter your number-0.03\n",
            "YOUR INPUT NUMBER IS NEGATIVE\n"
          ]
        }
      ]
    },
    {
      "cell_type": "code",
      "source": [
        "# 12 Write a for loop to print numbers from 1 to 10.\n",
        "for i in range(1,11):\n",
        "  print(i)"
      ],
      "metadata": {
        "colab": {
          "base_uri": "https://localhost:8080/"
        },
        "id": "4eLCJnC3KaPb",
        "outputId": "45b20d0a-ea5a-4a54-b8e1-859c2c4e1caf"
      },
      "execution_count": 47,
      "outputs": [
        {
          "output_type": "stream",
          "name": "stdout",
          "text": [
            "1\n",
            "2\n",
            "3\n",
            "4\n",
            "5\n",
            "6\n",
            "7\n",
            "8\n",
            "9\n",
            "10\n"
          ]
        }
      ]
    },
    {
      "cell_type": "code",
      "source": [
        "# 13. Write a python program to find the sum of all even numbers from 1 to 50.\n",
        "sum = 0\n",
        "for i in range(2, 51, 2):\n",
        "    sum += i\n",
        "print(sum)"
      ],
      "metadata": {
        "colab": {
          "base_uri": "https://localhost:8080/"
        },
        "id": "emvE-xDqMLf3",
        "outputId": "a851bd3e-e984-4474-b00e-3d121986afb7"
      },
      "execution_count": 51,
      "outputs": [
        {
          "output_type": "stream",
          "name": "stdout",
          "text": [
            "650\n"
          ]
        }
      ]
    },
    {
      "cell_type": "code",
      "source": [
        "# 14. Write a program to reverse a string using a while loop.\n",
        "string_a = \"meaningful\"\n",
        "string_b = \"\"\n",
        "i = len(string_a) - 1\n",
        "\n",
        "while i >= 0:\n",
        "  string_b += string_a[i]\n",
        "  i -= 1\n",
        "\n",
        "print(string_b)"
      ],
      "metadata": {
        "colab": {
          "base_uri": "https://localhost:8080/"
        },
        "id": "g1wjwoRrOMBQ",
        "outputId": "7806bac3-8388-492b-a240-e9db47095012"
      },
      "execution_count": 60,
      "outputs": [
        {
          "output_type": "stream",
          "name": "stdout",
          "text": [
            "lufgninaem\n"
          ]
        }
      ]
    },
    {
      "cell_type": "code",
      "source": [
        "# 15. Write a python program to calculate the factorial of a number provided by the user using a while loop.\n",
        "a=int(input(\"enter your number \"))\n",
        "fact=1\n",
        "while a>0:\n",
        "  fact*=a\n",
        "  a-=1\n",
        "print(fact)"
      ],
      "metadata": {
        "colab": {
          "base_uri": "https://localhost:8080/"
        },
        "id": "SYpKjQJsQsE-",
        "outputId": "7b1231b4-0c52-49f1-8c0a-b2488636121f"
      },
      "execution_count": 68,
      "outputs": [
        {
          "output_type": "stream",
          "name": "stdout",
          "text": [
            "enter your number 5\n",
            "120\n"
          ]
        }
      ]
    }
  ]
}