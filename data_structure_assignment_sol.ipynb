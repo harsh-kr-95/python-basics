{
  "nbformat": 4,
  "nbformat_minor": 0,
  "metadata": {
    "colab": {
      "provenance": []
    },
    "kernelspec": {
      "name": "python3",
      "display_name": "Python 3"
    },
    "language_info": {
      "name": "python"
    }
  },
  "cells": [
    {
      "cell_type": "markdown",
      "source": [
        "1.  What are data structures, and why are they important?\n",
        "    - Data structures are the method to organize and store data in a computer so that it can be accessed, modified, and manipulated efficiently. Data structures provide a way to manage large amounts of data, making it possible to perform operations like sorting, searching, and modifying data efficiently.\n",
        "    - Python's Built-in Data Structures:\n",
        "      - List\n",
        "      - Tuple\n",
        "      - Set\n",
        "      - Dictionary\n",
        "\n",
        "2.  Explain the difference between mutable and immutable data types with examples.\n",
        "    - Data types can be classified as mutable and immutable in Python.\n",
        "    - Mutable data types are those which can be modified after creation.\n",
        "      -  Lists: Ordered collections of items that can be modified.\n",
        "      - Dictionaries: Unordered collections of key-value pairs that can be   modified.\n",
        "      - Sets: Unordered collections of unique items that can be modified.\n",
        "    - Immutable Data Types are those which can't be modified after creation.\n",
        "      - Integers: Whole numbers that cannot be modified.\n",
        "      - Floats: Decimal numbers that cannot be modified.\n",
        "      - Strings: Sequences of characters that cannot be modified.\n",
        "      - Tuples: Ordered, immutable collections of items.\n",
        "\n",
        "3.  What are the main differences between lists and tuples in Python?       \n",
        "    -  Immutability:\n",
        "       - Lists: Can be modified after creation.\n",
        "       - Tuples: Cannot be modified after creation.\n",
        "\n",
        "    - Syntax:\n",
        "      - Lists: Defined using square brackets [].\n",
        "      - Tuples: Defined using parentheses ().\n",
        "\n",
        "    - Performance:\n",
        "      - Lists: Slower and more memory-intensive due to their dynamic nature.\n",
        "      - Tuples: Faster and more memory-efficient since they are immutable.\n",
        "\n",
        "    - Use Cases:\n",
        "      - Lists: Suitable if data needs to be modified, such as inserting, deleting, or sorting elements.\n",
        "      - Tuples: Suitable where data is constant and doesn't need to be modified, such as representing a record or a row in a database.\n",
        "\n",
        "    - Methods:\n",
        "      - Lists: Have methods like append, insert, remove, and sort.\n",
        "      - Tuples: Have limited methods, mainly for query, like index and count.\n",
        "\n",
        "4.  Describe how dictionaries store data.\n",
        "    - Dictionaries in Python store data in a key-value pair format, where\n",
        "      - Keys: Unique identifiers for each piece of data.\n",
        "      - Values: Actual data associated with each key.\n",
        "    - Python dictionaries use a hash table data structure to store and manage key-value pairs.\n",
        "\n",
        "5.  Why might you use a set instead of a list in Python?\n",
        "    - Faster Membership Testing.\n",
        "    - Automatic Removal of Duplicates:\n",
        "      - Sets automatically eliminate duplicate values.\n",
        "      - Lists allow duplicate values.\n",
        "\n",
        "    - Faster Union, Intersection, and Difference Operations:\n",
        "      - Sets provide optimized methods for union, intersection, and difference operations.\n",
        "      - Lists do not have built-in support for these operations.\n",
        "\n",
        "    - Improved Memory Efficiency:\n",
        "      - Sets typically require less memory than lists, especially for large datasets.\n",
        "\n",
        "6.   What is a string in Python, and how is it different from a list?\n",
        "     - In Python, a string is a sequence of characters, such as letters, numbers, or symbols. Strings are immutable; they cannot be changed after creation.\n",
        "     - Each character in a string has a unique index, starting from 0.\n",
        "     - How Strings Differ from Lists:\n",
        "       - Immutability: Strings are immutable, while lists are mutable.\n",
        "       - Element Type: Strings are limited to characters, while lists can contain any data type, including strings, integers, floats, and other lists.\n",
        "       - Syntax: Strings are defined using double or single quotes (\"\" or ''), while lists are defined using square brackets [].\n",
        "\n",
        "7.  How do tuples ensure data integrity in Python?\n",
        "    - In Python, tuples are ordered and immutable data structures that can help ensure data integrity\n",
        "       - Data is not accidentally changed: Once a tuple is created, its contents are fixed and cannot be altered.\n",
        "       - Data is not maliciously changed: Tuples provide a level of protection against intentional changes to the data.\n",
        "\n",
        "8.  What is a hash table, and how does it relate to dictionaries in Python?\n",
        "    - In Python, dictionaries use a hash table data structure to store and manage key-value pairs.\n",
        "      - Hashing: When a key-value pair is extended in a dictionary, the key is passed through a hash function, which generates a hash code.\n",
        "      - Indexing: The hash code is used as an index to store the corresponding value in an array.\n",
        "      - Collision Resolution: When two keys hash to the same index (a collision), the dictionary uses a technique like chaining or open addressing to resolve the conflict.\n",
        "\n",
        "9.  Can lists contain different data types in Python?\n",
        "    - Yes, in Python List can contain different data types. This is a key feature of lists in Python.\n",
        "    - A list in Python can contain a mix of different data types, including:\n",
        "      - Integers\n",
        "      - Floats\n",
        "      - Strings\n",
        "      - Boolean values\n",
        "      - Lists (nested lists)\n",
        "      - Tuples\n",
        "      - Dictionaries\n",
        "      - Sets\n",
        "      - Custom objects\n",
        "      \n",
        "10.  Explain why strings are immutable in Python?\n",
        "     - In Python, strings are immutable, so they cannot be modified after creation. This is an intentional design and provides several benefits.\n",
        "       - Security: Immutable strings prevent unintended changes to sensitive data, reducing the risk of security vulnerabilities.\n",
        "       - Thread Safety: Since strings are immutable, multiple threads can safely access and share the same string without fear of data corruption.\n",
        "       - Performance: Immutable strings allow for efficient caching and interning, which can improve performance by reducing memory allocation and copying.\n",
        "       - Code Simplification: Immutability simplifies code and reduces the likelihood of bugs caused by unintended changes to the string.\n",
        "\n",
        "11.  What advantages do dictionaries offer over lists for certain tasks?\n",
        "     - Advantages of a Dictionary:\n",
        "       - Fast Lookups:\n",
        "Dictionaries provide fast lookups, making them ideal for tasks that require frequent lookups.\n",
        "\n",
        "       - Key-Value Association:\n",
        "Dictionaries allow you to associate keys with values, making it easy to store and retrieve data in a structured way.\n",
        "\n",
        "       - Flexible Data Structure:\n",
        "Dictionaries can store a variety of data types, including strings, integers, floats, lists, and even other dictionaries.\n",
        "\n",
        "       - Efficient Data Retrieval:\n",
        "Dictionaries provide efficient data retrieval, as you can access values directly using their corresponding keys.\n",
        "\n",
        "       - Reduced Errors:\n",
        "Dictionaries reduce errors by providing a clear and explicit way to access and manipulate data.\n",
        "\n",
        "12.  Describe a scenario where using a tuple would be preferable over a list?\n",
        "     - Scenario: Representing a Date\n",
        "If we need to represent a date in our Python program, where a date consists of three components: day, month, and year.\n",
        "\n",
        "     - In this scenario, using a tuple to represent a date is preferable over a list for several reasons:\n",
        "\n",
        "     - Immutability: Dates are immutable in nature. Once a date is set, it doesn't change. Tuples, being immutable, ensure that the date remains consistent throughout the program.\n",
        "     - Structural Integrity: A date always consists of three components: date, month, and year. Tuples maintain this structural integrity, ensuring that the date is always represented correctly.\n",
        "     - Performance: Tuples are more memory-efficient and faster than lists, which makes them suitable for large-scale applications where performance is critical.\n",
        "\n",
        "13.  How do sets handle duplicate values in Python?\n",
        "     - In Python, sets automatically handle duplicate values by eliminating them. This is because sets are designed to store only unique elements.\n",
        "     - When we add a duplicate value to a set:\n",
        "\n",
        "       - Initial Addition: The value is added to the set if it doesn't already exist.\n",
        "       - Duplicate Addition: If the value already exists in the set, the addition operation is ignored, and the set remains unchanged.\n",
        "       \n",
        "14.   How does the “in” keyword work differently for lists and dictionaries?\n",
        "      - In Python, the 'in' keyword works differently for lists and dictionaries  as follows:\n",
        "\n",
        "        - Lists:\n",
        "          For lists, the \"in\" keyword checks if a value exists as an element within the list. It iterates through the list, comparing the search value to each element.\n",
        "\n",
        "        - Dictionaries:\n",
        "          For dictionaries, the \"in\" keyword checks if a value exists as a key within the dictionary. It does not check for values.\n",
        "\n",
        "15.  Can you modify the elements of a tuple? Explain why or why not.\n",
        "     - No, we cannot modify the elements of a tuple in Python. Tuples are immutable, which means their contents cannot be modified after creation.\n",
        "     - Tuples are immutable for several reasons:\n",
        "\n",
        "       - Performance: Immutable data structures like tuples can be optimized for performance, as their contents are guaranteed to remain consistent.\n",
        "\n",
        "       - Thread Safety: Immutable data structures are thread-safe, which means multiple threads can access the same tuple without data corruption.\n",
        "\n",
        "       - Code Simplification: Immutability simplifies code and reduces the bugs caused by unintended changes to the tuple.\n",
        "\n",
        "     - Attempting to Modify a Tuple:\n",
        "       If we try to modify a tuple, Python will raise a TypeError:\n",
        "\n",
        "16.  What is a nested dictionary, and give an example of its use             case?           \n",
        "     - A nested dictionary is a dictionary that contains another dictionary as its value. This allows a hierarchical organization of data, where each inner dictionary represents a subset of data.\n",
        "\n",
        "       - Example:\n",
        "\n",
        "       -  ## Create a nested dictionary\n",
        "       -  car = {\n",
        "       - \"TATA\": {\n",
        "       -   \"MODEL\": 2022,\n",
        "       -  \"TYPE\": \"SUV\",\n",
        "       - \"FEATURES\": [\"OFF ROADING\", \"DURABLE\", \"COMFORT\"]\n",
        "       - },\n",
        "       - \"BMW\": {\n",
        "       -    \"age\": 2025,\n",
        "       -   \"TYPE\": \"SEDAN\",\n",
        "       -  \"FEATURES\": [\"RACING\", \"POWERFUL ENGINE\", \"CONVERTIBLE\"]\n",
        "       - }\n",
        "       - }\n",
        "\n",
        "       - # Accessing nested dictionary values\n",
        "       - -print(Car[\"TATA\"][\"TYPE\"])  # Output: \"SUV\"\n",
        "       - print(students[\"BMW\"][\"FEATURES\"])  # Output: [\"RACING\", \"POWERFUL - - - ENGINE\", \"CONVERTIBLE\"]\n",
        "   \n",
        "   -  Data Analysis: Nested dictionaries can be used to store and manipulate data for analysis, such as storing data points for different categories or groups.\n",
        "   -  Data Organization: Helps in organizing complex data into a hierarchical structure, making it easier to access and manage.\n",
        "   - Configuration Files: Used to store configuration data, where each inner dictionary represents a specific configuration or setting.\n",
        "   - Game Development: Can be used to store game data, such as player information, game levels, or item properties.\n",
        "   \n",
        "17.  Describe the time complexity of accessing elements in a dictionary.\n",
        "     - Accessing elements in a dictionary in Python has an average time complexity of O(1), making it a very efficient operation.\n",
        "\n",
        "     - The complexity is O(1) because dictionaries in Python are implemented as hash tables, which allow for fast lookups. When we access an element in a dictionary using its key, Python:\n",
        "\n",
        "       - Hashes the key: Python converts the key into a hash value, which is an integer that represents the key.\n",
        "       - Looks up the hash value: Python uses the hash value to look up the corresponding value in the dictionary.\n",
        "\n",
        "     - Average Case:\n",
        "In the average case, the time complexity of accessing an element in a dictionary is O(1), meaning that the time it takes to access an element is constant and does not depend on the size of the dictionary.\n",
        "\n",
        "     - Worst Case:\n",
        "In the worst case, the time complexity of accessing an element in a dictionary is O(n), where n is the number of elements in the dictionary. This can happen when:\n",
        "\n",
        "       - Hash collisions: Multiple keys hash to the same value, causing Python to search through a list of colliding keys.\n",
        "       - Poor hash function: The hash function used by Python is poorly designed, causing a high number of hash collisions.\n",
        "\n",
        "18.  In what situations are lists preferred over dictionaries?\n",
        "     - Lists are preferred over dictionaries in the following situations:\n",
        "\n",
        "       - Indexed Access:\n",
        "When you need to access elements by their index, lists are more suitable. Lists support indexing, slicing, and other sequence operations.\n",
        "\n",
        "       - Frequent Insertions/Deletions:\n",
        "When the collection needs to be frequently modified (e.g., inserting or deleting elements), lists are more efficient. Lists can handle insertions and deletions at any position.\n",
        "\n",
        "       - Homogeneous Data:\n",
        "When working with a collection of homogeneous data (i.e., data of the same type), lists are a better fit. Lists can store elements of any data type, but they excel with homogeneous data.\n",
        "\n",
        "       - Ordered Data:\n",
        "When the order of the data matters, lists are a better choice. Lists maintain the insertion order, whereas dictionaries do not.\n",
        "\n",
        "       - Cache-Friendly:\n",
        "Lists are cache-friendly, meaning they can take advantage of CPU caching. This makes lists a good choice for large datasets that need to be iterated over.\n",
        "\n",
        "       - Simple Data Structures:\n",
        "When working with simple data structures, such as a collection of numbers or strings, lists are a straightforward and efficient choice.\n",
        "\n",
        "19.  Why are dictionaries considered unordered, and how does that affect data retrieval?\n",
        "     - Dictionaries are still considered unordered because:\n",
        "\n",
        "       - Hash table internals: The internal implementation of dictionaries as hash tables means that the order of the key-value pairs is not explicitly defined.\n",
        "       - Key hashing: When we access a dictionary key, Python hashes the key to determine its location in the hash table. This hashing process does not guarantee a specific order.\n",
        "\n",
        "     - Effect on Data Retrieval:\n",
        "The unordered nature of dictionaries affects data retrieval in the following ways:\n",
        "\n",
        "      - No guaranteed order: When iterating over a dictionary, you cannot rely on the order of the key-value pairs.\n",
        "      - Key-based access: You can access dictionary values using their corresponding keys, but the order in which these keys are stored is not guaranteed.\n",
        "      - No indexing: Dictionaries do not support indexing like lists or tuples. You cannot access a dictionary value using an index (e.g., my_dict[0]).\n",
        "\n",
        "20.   Explain the difference between a list and a dictionary in terms of data retrieval.\n",
        "      - Comparison of data retrieval in lists and dictionaries:\n",
        "\n",
        "      - List Data Retrieval:\n",
        "        - Index-based: Lists allow to retrieve of data using indices (positions) in the list.\n",
        "        - Sequential access: Lists can be accessed sequentially using indexing, slicing, or iteration.\n",
        "        - Fast lookup by index: Lists provide fast lookup by index, with an average time complexity of O(1).\n",
        "\n",
        "      - Dictionary Data Retrieval:\n",
        "        - Key-based: Dictionaries allow data retrieval using keys, which are unique identifiers for each value.\n",
        "        - Fast lookup by key: Dictionaries provide fast lookup by key, with an average time complexity of O(1).\n",
        "        - No sequential access: Dictionaries do not maintain a specific order, making sequential access less efficient.\n",
        "\n",
        "      - Key Differences:\n",
        "        - Indexing vs. Keying: Lists use indexing for data retrieval, while dictionaries use keying.\n",
        "        - Sequential Access: Lists support sequential access, while dictionaries do not.\n",
        "        - Lookup Time Complexity: Both lists and dictionaries offer fast lookup times, but dictionaries are generally faster than lists for large datasets.\n",
        "\n",
        "\n",
        "\n",
        "\n",
        "  \n",
        "    \n",
        "     \n",
        "     \n",
        "\n",
        "  \n",
        "\n",
        "\n",
        "\n",
        "\n",
        "  \n",
        "\n",
        "\n",
        "      \n",
        "\n",
        "\n",
        "\n",
        "\n",
        "\n",
        "\n",
        "    \n"
      ],
      "metadata": {
        "id": "evdCvznMJfWa"
      }
    },
    {
      "cell_type": "markdown",
      "source": [
        "# PRACTICAL QUESTIONS BELOW"
      ],
      "metadata": {
        "id": "UtD6dhtRaaN5"
      }
    },
    {
      "cell_type": "code",
      "source": [
        "# 1. Write a code to create a string with your name and print it.\n",
        "name=\"Harsh Kumar\"\n",
        "print(\"My name is \",name)"
      ],
      "metadata": {
        "colab": {
          "base_uri": "https://localhost:8080/"
        },
        "id": "o8HmdPoqavIt",
        "outputId": "7bf594af-c8a8-4811-944a-5a0ce7e0e61a"
      },
      "execution_count": 2,
      "outputs": [
        {
          "output_type": "stream",
          "name": "stdout",
          "text": [
            "My name is  Harsh Kumar\n"
          ]
        }
      ]
    },
    {
      "cell_type": "code",
      "source": [
        "# 2. Write a code to find the length of the string \"Hello World\".\n",
        "Message=\"Hello World\"\n",
        "print(\"Length of the string is of \",len(Message),\"digits\")"
      ],
      "metadata": {
        "id": "1mgf_mhysZgj",
        "colab": {
          "base_uri": "https://localhost:8080/"
        },
        "outputId": "050d8f5b-9ccd-44f8-a256-fe8734d906cc"
      },
      "execution_count": 4,
      "outputs": [
        {
          "output_type": "stream",
          "name": "stdout",
          "text": [
            "Length of the string is of  11 digits\n"
          ]
        }
      ]
    },
    {
      "cell_type": "code",
      "source": [
        "# 3. Write a code to slice the first 3 characters from the string \"Python Programming\".\n",
        "String=\"Python Programming\"\n",
        "print(\"First 3 characters are \",String[0:3])"
      ],
      "metadata": {
        "colab": {
          "base_uri": "https://localhost:8080/"
        },
        "id": "YTfRTbfxcAxx",
        "outputId": "28da4236-8304-4f6c-d84b-2495f9475a45"
      },
      "execution_count": 5,
      "outputs": [
        {
          "output_type": "stream",
          "name": "stdout",
          "text": [
            "First 3 characters are  Pyt\n"
          ]
        }
      ]
    },
    {
      "cell_type": "code",
      "source": [
        "# 4. Write a code to convert the string \"hello\" to uppercase.\n",
        "msg=\"hello\"\n",
        "print(\"Uppercase of the string is \",msg.upper())"
      ],
      "metadata": {
        "colab": {
          "base_uri": "https://localhost:8080/"
        },
        "id": "aF0IEodNceUs",
        "outputId": "41257071-ed15-4921-8aac-e2e5b7e94773"
      },
      "execution_count": 6,
      "outputs": [
        {
          "output_type": "stream",
          "name": "stdout",
          "text": [
            "Uppercase of the string is  HELLO\n"
          ]
        }
      ]
    },
    {
      "cell_type": "code",
      "source": [
        "# 5. Write a code to replace the word \"apple\" with \"orange\" in the string \"I like apple\".\n",
        "choice=\"I like apple\"\n",
        "print(\"Replaced my choice , now \",choice.replace(\"apple\",\"orange\"))"
      ],
      "metadata": {
        "colab": {
          "base_uri": "https://localhost:8080/"
        },
        "id": "RwewvuT5cw3s",
        "outputId": "c033d45d-044f-4ea3-f1b8-296307e75193"
      },
      "execution_count": 9,
      "outputs": [
        {
          "output_type": "stream",
          "name": "stdout",
          "text": [
            "Replaced my choice , now  I like orange\n"
          ]
        }
      ]
    },
    {
      "cell_type": "code",
      "source": [
        "# 6. Write a code to create a list with numbers 1 to 5 and print it.\n",
        "my_list=[1,2,3,4,5]\n",
        "print(\"List is \",my_list)"
      ],
      "metadata": {
        "colab": {
          "base_uri": "https://localhost:8080/"
        },
        "id": "_VeTBwNjdXNO",
        "outputId": "1c8ca426-29a7-413f-9916-54ffe1d1d7e0"
      },
      "execution_count": 10,
      "outputs": [
        {
          "output_type": "stream",
          "name": "stdout",
          "text": [
            "List is  [1, 2, 3, 4, 5]\n"
          ]
        }
      ]
    },
    {
      "cell_type": "code",
      "source": [
        "# 7. Write a code to append the number 10 to the list [1, 2, 3, 4].\n",
        "my_list=[1,2,3,4]\n",
        "print(\"previous list\",my_list)\n",
        "my_list.append(10)\n",
        "print(\"\\nUpdated list is \",my_list)\n"
      ],
      "metadata": {
        "colab": {
          "base_uri": "https://localhost:8080/"
        },
        "id": "VxCWqGLbdmdl",
        "outputId": "f6242fb0-8a5d-4176-b615-8e6ed746e464"
      },
      "execution_count": 23,
      "outputs": [
        {
          "output_type": "stream",
          "name": "stdout",
          "text": [
            "previous list [1, 2, 3, 4]\n",
            "\n",
            "Updated list is  [1, 2, 3, 4, 10]\n"
          ]
        }
      ]
    },
    {
      "cell_type": "code",
      "source": [
        "# 8. Write a code to remove the number 3 from the list [1, 2, 3, 4, 5].\n",
        "my_list=[1,2,3,4,5]\n",
        "print(\"original list\",my_list)\n",
        "my_list.remove(3)\n",
        "print(\"\\nUpdated list is \",my_list)"
      ],
      "metadata": {
        "colab": {
          "base_uri": "https://localhost:8080/"
        },
        "id": "VPdpnbi-eFtP",
        "outputId": "5f777ed3-49ff-4e8b-c876-5406b5ead5b7"
      },
      "execution_count": 22,
      "outputs": [
        {
          "output_type": "stream",
          "name": "stdout",
          "text": [
            "original list [1, 2, 3, 4, 5]\n",
            "\n",
            "Updated list is  [1, 2, 4, 5]\n"
          ]
        }
      ]
    },
    {
      "cell_type": "code",
      "source": [
        "# 9. Write a code to access the second element in the list ['a', 'b', 'c', 'd'].\n",
        "char_list=['a','b','c','d']\n",
        "print(\"Second element of list is \",char_list[1])"
      ],
      "metadata": {
        "colab": {
          "base_uri": "https://localhost:8080/"
        },
        "id": "OEljcw6VepKg",
        "outputId": "eff93614-bcda-4dc6-b6cc-2d6ce8b39ff6"
      },
      "execution_count": 15,
      "outputs": [
        {
          "output_type": "stream",
          "name": "stdout",
          "text": [
            "Second element of list is  b\n"
          ]
        }
      ]
    },
    {
      "cell_type": "code",
      "source": [
        "# 10. Write a code to reverse the list [10, 20, 30, 40, 50].\n",
        "my_list=[10,20,30,40,50]\n",
        "print(\"Original list is\",my_list)\n",
        "print(\"\\nlist after reversal is\",my_list[::-1])"
      ],
      "metadata": {
        "colab": {
          "base_uri": "https://localhost:8080/"
        },
        "id": "Mb_UTWe1fBRp",
        "outputId": "a0d88a3e-6c2a-4c88-c920-3a33e73ef510"
      },
      "execution_count": 21,
      "outputs": [
        {
          "output_type": "stream",
          "name": "stdout",
          "text": [
            "Original list is [10, 20, 30, 40, 50]\n",
            "\n",
            "list after reversal is [50, 40, 30, 20, 10]\n"
          ]
        }
      ]
    },
    {
      "cell_type": "code",
      "source": [
        "# 11.  Write a code to create a tuple with the elements 100, 200, 300 and print it.\n",
        "my_tuple=(100,200,300)\n",
        "my_tuple=(100,200,300)\n",
        "print(\"Tuple is \",my_tuple)"
      ],
      "metadata": {
        "colab": {
          "base_uri": "https://localhost:8080/"
        },
        "id": "Qfvu8UYZf8xi",
        "outputId": "da17b031-b4d7-4654-f5f9-64e19ac3772f"
      },
      "execution_count": 24,
      "outputs": [
        {
          "output_type": "stream",
          "name": "stdout",
          "text": [
            "Tuple is  (100, 200, 300)\n"
          ]
        }
      ]
    },
    {
      "cell_type": "code",
      "source": [
        "# 12. Write a code to access the second-to-last element of the tuple ('red', 'green', 'blue', 'yellow').\n",
        "my_tuple=('red','green','blue','yellow')\n",
        "print(\"Second to last element of tuple is \",my_tuple[1:4])\n"
      ],
      "metadata": {
        "colab": {
          "base_uri": "https://localhost:8080/"
        },
        "id": "HV-bfgqPgRzX",
        "outputId": "6a7909f4-e8b2-49db-9b55-c5bdf1988644"
      },
      "execution_count": 28,
      "outputs": [
        {
          "output_type": "stream",
          "name": "stdout",
          "text": [
            "Second to last element of tuple is  ('green', 'blue', 'yellow')\n"
          ]
        }
      ]
    },
    {
      "cell_type": "code",
      "source": [
        "# 13. Write a code to find the minimum number in the tuple (10, 20, 5, 15).\n",
        "int_tuple=(10,20,5,15)\n",
        "print(\"Minimum integer number in tuple is \",min(int_tuple))"
      ],
      "metadata": {
        "colab": {
          "base_uri": "https://localhost:8080/"
        },
        "id": "U6mV_6atguTv",
        "outputId": "cd2cf2ef-2897-4092-da76-2477fe154c85"
      },
      "execution_count": 30,
      "outputs": [
        {
          "output_type": "stream",
          "name": "stdout",
          "text": [
            "Minimum integer number in tuple is  5\n"
          ]
        }
      ]
    },
    {
      "cell_type": "code",
      "source": [
        "# 14.  Write a code to find the index of the element \"cat\" in the tuple ('dog', 'cat', 'rabbit').\n",
        "animal_tuple=('dog','cat','rabbit')\n",
        "print(\"Index of cat in tuple is \",animal_tuple.index('cat'))\n",
        "\n"
      ],
      "metadata": {
        "colab": {
          "base_uri": "https://localhost:8080/"
        },
        "id": "GJ23PpVWhI1Z",
        "outputId": "0646fa87-381a-4597-c6be-98492c83cb47"
      },
      "execution_count": 46,
      "outputs": [
        {
          "output_type": "stream",
          "name": "stdout",
          "text": [
            "Index of cat in tuple is  1\n"
          ]
        }
      ]
    },
    {
      "cell_type": "code",
      "source": [
        "#. 15 Write a code to create a tuple containing three different fruits and check if \"kiwi\" is in it.\n",
        "my_tuple=('orange','banana','kiwi')\n",
        "print(\"kiwi\" in my_tuple)"
      ],
      "metadata": {
        "colab": {
          "base_uri": "https://localhost:8080/"
        },
        "id": "umKIdCXGhfAB",
        "outputId": "893a8588-1b96-4663-c805-42e73a69253f"
      },
      "execution_count": 32,
      "outputs": [
        {
          "output_type": "stream",
          "name": "stdout",
          "text": [
            "True\n"
          ]
        }
      ]
    },
    {
      "cell_type": "code",
      "source": [
        "# 16. Write a code to create a set with the elements 'a', 'b', 'c' and print it.\n",
        "the_set={\"a\",\"b\",\"c\"}\n",
        "print(\"The Set contains \",the_set)"
      ],
      "metadata": {
        "colab": {
          "base_uri": "https://localhost:8080/"
        },
        "id": "HwgvPJnDh-3e",
        "outputId": "5a7acd86-a9b2-4dcb-eba9-ae478df7438f"
      },
      "execution_count": 36,
      "outputs": [
        {
          "output_type": "stream",
          "name": "stdout",
          "text": [
            "The Set contains  {'b', 'a', 'c'}\n"
          ]
        }
      ]
    },
    {
      "cell_type": "code",
      "source": [
        "# 17. Write a code to clear all elements from the set {1, 2, 3, 4, 5}.\n",
        "my_set={1,2,3,4,5}\n",
        "print(\"Original set is \",my_set)\n",
        "my_set.clear()\n",
        "print(\"\\nUpdated set is \",my_set,\"with no element\")"
      ],
      "metadata": {
        "colab": {
          "base_uri": "https://localhost:8080/"
        },
        "id": "0XBf9TydirbS",
        "outputId": "fb592614-9f6e-45d5-85ab-50ea18e500d2"
      },
      "execution_count": 38,
      "outputs": [
        {
          "output_type": "stream",
          "name": "stdout",
          "text": [
            "Original set is  {1, 2, 3, 4, 5}\n",
            "\n",
            "Updated set is  set() with no element\n"
          ]
        }
      ]
    },
    {
      "cell_type": "code",
      "source": [
        "# 18. Write a code to remove the element 4 from the set {1, 2, 3, 4}.\n",
        "my_set={1,2,3,4}\n",
        "print(\"Original set is \",my_set)\n",
        "my_set.remove(4)\n",
        "print(\"\\nThe Updated set is \",my_set)\n"
      ],
      "metadata": {
        "colab": {
          "base_uri": "https://localhost:8080/"
        },
        "id": "L0yZ6s9ujCeR",
        "outputId": "37531a61-4ab1-480f-b7b5-b227358b5d97"
      },
      "execution_count": 41,
      "outputs": [
        {
          "output_type": "stream",
          "name": "stdout",
          "text": [
            "Original set is  {1, 2, 3, 4}\n",
            "\n",
            "The Updated set is  {1, 2, 3}\n"
          ]
        }
      ]
    },
    {
      "cell_type": "code",
      "source": [
        "# 19. Write a code to find the union of two sets {1, 2, 3} and {3, 4, 5}.\n",
        "set1={1,2,3}\n",
        "set2={3,4,5}\n",
        "print(\"Union of two sets is \",set1.union(set2))"
      ],
      "metadata": {
        "colab": {
          "base_uri": "https://localhost:8080/"
        },
        "id": "8kswiHOJjt04",
        "outputId": "67444166-00a4-4185-93c9-d4c7a595ee89"
      },
      "execution_count": 42,
      "outputs": [
        {
          "output_type": "stream",
          "name": "stdout",
          "text": [
            "Union of two sets is  {1, 2, 3, 4, 5}\n"
          ]
        }
      ]
    },
    {
      "cell_type": "code",
      "source": [
        "# 20. Write a code to find the intersection of two sets {1, 2, 3} and {2, 3, 4}.\n",
        "set1={1,2,3}\n",
        "set2={2,3,4}\n",
        "print(\"Intersection/Common of two sets is \",set1.intersection(set2))"
      ],
      "metadata": {
        "colab": {
          "base_uri": "https://localhost:8080/"
        },
        "id": "soq4m5aqj45R",
        "outputId": "96a3d58a-1129-4841-db29-60962570f4de"
      },
      "execution_count": 45,
      "outputs": [
        {
          "output_type": "stream",
          "name": "stdout",
          "text": [
            "Intersection/Common of two sets is  {2, 3}\n"
          ]
        }
      ]
    },
    {
      "cell_type": "code",
      "source": [
        "# 21. Write a code to create a dictionary with the keys \"name\", \"age\", and \"city\", and print it.\n",
        "info_dict={\"name\":\"Harsh Kumar\",\"age\":23,\"city\":\"Delhi\"}\n",
        "print(\"My information in dictionary is\", info_dict)"
      ],
      "metadata": {
        "colab": {
          "base_uri": "https://localhost:8080/"
        },
        "id": "1GoVfMhNkmoM",
        "outputId": "9d567648-dd49-4a4d-edf5-ac5f274184df"
      },
      "execution_count": 51,
      "outputs": [
        {
          "output_type": "stream",
          "name": "stdout",
          "text": [
            "my information in dictionary is {'name': 'Harsh Kumar', 'age': 23, 'city': 'Delhi'}\n"
          ]
        }
      ]
    },
    {
      "cell_type": "code",
      "source": [
        "# 22. Write a code to add a new key-value pair \"country\": \"USA\" to the dictionary {'name': 'John', 'age': 25}.\n",
        "info_dict={'name': 'John', 'age': 25}\n",
        "print(\"Original dictionary is \",info_dict)\n",
        "info_dict[\"country\"]=\"USA\"\n",
        "print(\"\\nThe Updated dictionary is \",info_dict)"
      ],
      "metadata": {
        "colab": {
          "base_uri": "https://localhost:8080/"
        },
        "id": "p1jxHinBmFez",
        "outputId": "8a7c7429-7fd8-4d2c-b83e-5f934126fec1"
      },
      "execution_count": 52,
      "outputs": [
        {
          "output_type": "stream",
          "name": "stdout",
          "text": [
            "Original dictionary is  {'name': 'John', 'age': 25}\n",
            "\n",
            "The Updated dictionary is  {'name': 'John', 'age': 25, 'country': 'USA'}\n"
          ]
        }
      ]
    },
    {
      "cell_type": "code",
      "source": [
        "# 23. Write a code to access the value associated with the key \"name\" in the dictionary {'name': 'Alice', 'age': 30}.\n",
        "details_dict={'name': 'Alice', 'age': 30}\n",
        "print(\"Value associated with key 'name' is: \",details_dict[\"name\"])"
      ],
      "metadata": {
        "colab": {
          "base_uri": "https://localhost:8080/"
        },
        "id": "ISfph5S2mT7q",
        "outputId": "16f9a6b5-09e5-4cd2-e039-fab2be07a39b"
      },
      "execution_count": 56,
      "outputs": [
        {
          "output_type": "stream",
          "name": "stdout",
          "text": [
            "Value associated with key 'name' is:  Alice\n"
          ]
        }
      ]
    },
    {
      "cell_type": "code",
      "source": [
        "# 24.  Write a code to remove the key \"age\" from the dictionary {'name': 'Bob', 'age': 22, 'city': 'New York'}.\n",
        "my_dict={'name': 'Bob', 'age': 22, 'city': 'New York'}\n",
        "print(\"Original dictionary is \",my_dict)\n",
        "my_dict.pop(\"age\")\n",
        "print(\"\\nUpdated dictionary is \",my_dict)"
      ],
      "metadata": {
        "colab": {
          "base_uri": "https://localhost:8080/"
        },
        "id": "uCTrRl9smveM",
        "outputId": "b150d0bb-05f3-41a0-94db-162510b0aa17"
      },
      "execution_count": 57,
      "outputs": [
        {
          "output_type": "stream",
          "name": "stdout",
          "text": [
            "Original dictionary is  {'name': 'Bob', 'age': 22, 'city': 'New York'}\n",
            "\n",
            "Updated dictionary is  {'name': 'Bob', 'city': 'New York'}\n"
          ]
        }
      ]
    },
    {
      "cell_type": "code",
      "source": [
        "# 25. Write a code to check if the key \"city\" exists in the dictionary {'name': 'Alice', 'city': 'Paris'}.\n",
        "the_dict={'name': 'Alice', 'city': 'Paris'}\n",
        "print(\"city\" in the_dict)"
      ],
      "metadata": {
        "colab": {
          "base_uri": "https://localhost:8080/"
        },
        "id": "7yG5RanZnG2i",
        "outputId": "658c5ad3-4b58-4568-b416-5789b71bd9ca"
      },
      "execution_count": 62,
      "outputs": [
        {
          "output_type": "stream",
          "name": "stdout",
          "text": [
            "True\n"
          ]
        }
      ]
    },
    {
      "cell_type": "code",
      "source": [
        "# 26. Write a code to create a list, a tuple, and a dictionary, and print them all.\n",
        "my_list=[1,'go',True,4.8]\n",
        "my_tuple=(1,2,3,4)\n",
        "my_dict={1:\"first\",2:\"second\",3:\"third\",4:\"last\"}\n",
        "print(\"List is \",my_list)\n",
        "print(\"\\nTuple is \",my_tuple)\n",
        "print(\"\\nDictionary is \",my_dict)"
      ],
      "metadata": {
        "colab": {
          "base_uri": "https://localhost:8080/"
        },
        "id": "5X6J26xSnnGw",
        "outputId": "72e14470-bf25-4900-cd36-3aa14605b4f1"
      },
      "execution_count": 64,
      "outputs": [
        {
          "output_type": "stream",
          "name": "stdout",
          "text": [
            "List is  [1, 'go', True, 4.8]\n",
            "\n",
            "Tuple is  (1, 2, 3, 4)\n",
            "\n",
            "Dictionary is  {1: 'first', 2: 'second', 3: 'third', 4: 'last'}\n"
          ]
        }
      ]
    },
    {
      "cell_type": "code",
      "source": [
        "# 27. Write a code to create a list of 5 random numbers between 1 and 100, sort it in ascending order, and print the result.(replaced)\n",
        "rdm_list=(7,34,28,5,86)\n",
        "print(\"Original list is \",rdm_list)\n",
        "print(\"\\nSorted list is \",sorted(rdm_list))"
      ],
      "metadata": {
        "colab": {
          "base_uri": "https://localhost:8080/"
        },
        "id": "zgx3voVkoNFU",
        "outputId": "500913ed-b30d-4f1a-eb4c-333c8bba764c"
      },
      "execution_count": 65,
      "outputs": [
        {
          "output_type": "stream",
          "name": "stdout",
          "text": [
            "Original list is  (7, 34, 28, 5, 86)\n",
            "\n",
            "Sorted list is  [5, 7, 28, 34, 86]\n"
          ]
        }
      ]
    },
    {
      "cell_type": "code",
      "source": [
        "# 28. Write a code to create a list with strings and print the element at the third index.\n",
        "my_list=(\"MY\",\"NAME\",\"IS\",\"HARSH KUMAR\")\n",
        "print(\"Element at third index contains \",my_list[2])\n",
        "#"
      ],
      "metadata": {
        "colab": {
          "base_uri": "https://localhost:8080/"
        },
        "id": "_eUhnls2o3sx",
        "outputId": "b1869955-4d70-4026-a5d9-dc9bcb4aae88"
      },
      "execution_count": 67,
      "outputs": [
        {
          "output_type": "stream",
          "name": "stdout",
          "text": [
            "Element at third index contains  IS\n"
          ]
        }
      ]
    },
    {
      "cell_type": "code",
      "source": [
        "# 29. Write a code to combine two dictionaries into one and print the result.\n",
        "first_dict={1:\"Rahul\",2:\"Mohit\",3:\"Ajay\",4:\"Kunal\"}\n",
        "second_dict={5:\"first\",6:\"second\",7:\"third\",8:\"last\"}\n",
        "print(\"First dictionary is \",first_dict)\n",
        "print(\"Second dictionary is \",second_dict)\n",
        "combined_dict={**first_dict,**second_dict}\n",
        "print(\"\\nCombined dictionary is \",combined_dict)\n"
      ],
      "metadata": {
        "colab": {
          "base_uri": "https://localhost:8080/"
        },
        "id": "VCtSo6RWpwkb",
        "outputId": "2a58a85e-0ed6-47fb-cfdd-086ad1f3c94f"
      },
      "execution_count": 70,
      "outputs": [
        {
          "output_type": "stream",
          "name": "stdout",
          "text": [
            "First dictionary is  {1: 'Rahul', 2: 'Mohit', 3: 'Ajay', 4: 'Kunal'}\n",
            "Second dictionary is  {5: 'first', 6: 'second', 7: 'third', 8: 'last'}\n",
            "\n",
            "Combined dictionary is  {1: 'Rahul', 2: 'Mohit', 3: 'Ajay', 4: 'Kunal', 5: 'first', 6: 'second', 7: 'third', 8: 'last'}\n"
          ]
        }
      ]
    },
    {
      "cell_type": "code",
      "source": [
        "# 30.  Write a code to convert a list of strings into a set.\n",
        "my_list=(\"I\",\"LIKE\",\"PYTHON\",\"LANGUAGE\")\n",
        "print(\"Original list is \",my_list)\n",
        "print(\"\\nConverted set is \",set(my_list))"
      ],
      "metadata": {
        "colab": {
          "base_uri": "https://localhost:8080/"
        },
        "id": "nxNKeZJjqicE",
        "outputId": "bb579167-fce7-4d4c-9ebe-3e0b2fd477f1"
      },
      "execution_count": 73,
      "outputs": [
        {
          "output_type": "stream",
          "name": "stdout",
          "text": [
            "Original list is  ('I', 'LIKE', 'PYTHON', 'LANGUAGE')\n",
            "\n",
            "Converted set is  {'I', 'LANGUAGE', 'LIKE', 'PYTHON'}\n"
          ]
        }
      ]
    }
  ]
}