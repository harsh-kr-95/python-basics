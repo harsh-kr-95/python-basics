{
  "nbformat": 4,
  "nbformat_minor": 0,
  "metadata": {
    "colab": {
      "provenance": []
    },
    "kernelspec": {
      "name": "python3",
      "display_name": "Python 3"
    },
    "language_info": {
      "name": "python"
    }
  },
  "cells": [
    {
      "cell_type": "markdown",
      "source": [
        "# 1. What is Object-Oriented Programming (OOP)?\n",
        "-  Object-Oriented Programming (OOP) is a programming paradigm that contain the concept of objects and classes.\n",
        "\n",
        "- Key Components:\n",
        "  - Classes:- A blueprint which defines the properties and behaviors of an object.\n",
        "  - Objects:- Instances of classes, which have their own set of attributes (data) and methods (functions).\n",
        "  - Inheritance:- A mechanism that allows one class to inherit the properties and behaviors of another class.\n",
        "  - Polymorphism:- The ability of an object to take on multiple forms, depending on the context.\n",
        "  - Encapsulation: The concept of hiding internal implementation details and allow access of only necessary information to the outside world.\n",
        "\n",
        "- Basic OOP Concepts:\n",
        "  - Attributes:- Data members of a class or object.\n",
        "  - Methods:- Functions that belong to a class or object.\n",
        "  - Constructors:- Special methods that initialize objects when they're created.\n",
        "  - Destructors:- Special methods that clean up resources when objects are destroyed.\n",
        "\n",
        "- Benefits of OOP:\n",
        "  - Modularity: OOP promotes modular code, making it easier to maintain and reuse.\n",
        "  - Reusability: Classes and objects can be reused in multiple contexts.\n",
        "  - Abstraction: OOP helps abstract complex systems into simpler, more manageable components.\n",
        "  - Easier Debugging: OOP's modular nature makes it easier to identify and debug issues.\n",
        "\n",
        "-----------\n",
        "# 2. What is a class in OOP?\n",
        "- In Object-Oriented Programming (OOP), a class is a blueprint or template that defines the properties and behaviors of an object. It's essentially a design pattern or a template that defines the characteristics of an object.\n",
        "\n",
        "- Characteristics of a Class:\n",
        "  - Encapsulation: A class encapsulates its properties and methods, hiding internal implementation details.\n",
        "  - Abstraction: A class provides a simplified representation of a complex system.\n",
        "  - Inheritance: A class can inherit properties and methods from another class.\n",
        "\n",
        "Example:\n",
        "\n",
        "class Dog:\n",
        "    def __init__(self, name, age, breed):\n",
        "        self.name = name\n",
        "        self.age = age\n",
        "        self.breed = breed\n",
        "\n",
        "    def bark(self):\n",
        "        print(\"Woof!\")\n",
        "\n",
        "    def wag_tail(self):\n",
        "        print(\"Walking in joy!\")\n",
        "\n",
        "-----------------------\n",
        "# 3.  What is an object in OOP?\n",
        "- In Object-Oriented Programming (OOP), an object is an instance of a class, which represents a real-world entity, concept, or thing. Objects have their own set of attributes (data) and methods (functions) which define their behavior.\n",
        "\n",
        "- Characteristics of an Object:\n",
        "  - State:- The state of an object is defined by its attributes, which can be a variables, constants, or other data types.\n",
        "  -  Behavior:- An object's behavior is defined by its methods, which are functions that operate on the object's state.\n",
        "  - Identity:- Each object has a unique identity, which distinguishes itself from other objects.\n",
        "4. Interactions:- Objects can interact with other objects through method calls, which enable them to exchange data and coordinate behavior with eachother.\n",
        "\n",
        "Example:\n",
        "\n",
        "    class Dog:\n",
        "    def __init__(self, name, age, breed):\n",
        "        self.name = name\n",
        "        self.age = age\n",
        "        self.breed = breed\n",
        "\n",
        "    def bark(self):\n",
        "        print(\"Woof!\")\n",
        "\n",
        "    def wag_tail(self):\n",
        "        print(\"enjoying my sleep!\")\n",
        "\n",
        "    my_dog = Dog(\"goldy\", 5, \"Golden Retriever\")\n",
        "    print(my_dog.name)  # Output: goldy\n",
        "    my_dog.bark()  # Output: Woof!\n",
        "    my_dog.wag_tail()  # Output: Wagging my tail!\n",
        "\n",
        "--------------\n",
        "# 4. What is the difference between abstraction and encapsulation?\n",
        "- Abstraction and encapsulation are two fundamental concepts in object-oriented programming (OOP) which are often confused with each other. While they're related, they serve different purposes:\n",
        "\n",
        "- Abstraction:\n",
        "Abstraction is the practice of exposing only the necessary information about an object or system while hiding its internal details. It's about defining an interface or a contract that specifies how to interact with the object or system without revealing its underlying complexity.\n",
        "\n",
        "  - Example:- A car's transmission system is a complex mechanism, but we don't need to know how it works to drive the car. The transmission system is abstracted away, and we only need to interact with the gearshift and accelerator.\n",
        "\n",
        "- Encapsulation:\n",
        "Encapsulation is the practice of bundling data and methods that operate on that data within a single unit, such as a class or object. It's about hiding the internal state of an object and only exposing a public interface through which other objects can interact with it.\n",
        "\n",
        "  - Example:- A bank account object encapsulates the account balance and provides methods to deposit, withdraw, and check the balance. The internal state of the account (the balance) is hidden, and only the public methods are exposed.\n",
        "\n",
        "---------------\n",
        "# 5. What are dunder methods in Python?\n",
        "- In Python, \"dunder\" methods are special methods that surrounded by double underscores (i.e., __) on either side of the method name. These methods are also known as \"magic methods\" or \"special methods.\"\n",
        "\n",
        "- Purpose:- Dunder methods are used to enhance or improve the behavior of built-in types in Python. They allow us to customize the behavior of our objects, making them more intuitive and user-friendly.\n",
        "\n",
        "- Examples:\n",
        "  - __init__: Initializes an object when it's created.\n",
        "  - __str__ and __repr__: Return a string representation of an object.\n",
        "  - __add__, __sub__, __mul__, etc.: Implement arithmetic operations for custom objects.\n",
        "  - __len__: Returns the length of an object (e.g., a custom container).\n",
        "  - __getitem__ and __setitem__: Implement indexing and assignment for custom objects.\n",
        "\n",
        "  ------------\n",
        "\n",
        "# 6.  Explain the concept of inheritance in OOP.\n",
        "- Inheritance is a fundamental concept in Object-Oriented Programming (OOP) that allows a class to inherit the properties and behavior of another class. This helps to promote code reusability, modularity, and a more hierarchical organization of code.\n",
        "\n",
        "- Inheitance has two type of classes:\n",
        "1. Parent Class (Superclass or Base Class): The class from which the child class inherits.\n",
        "2. Child Class (Subclass or Derived Class): The class that inherits from the parent class.\n",
        "\n",
        "- Types of Inheritance:\n",
        "  -  Single Inheritance: A child class inherits from a single parent class.\n",
        "  -  Multiple Inheritance: A child class inherits from multiple parent classes.\n",
        "  -  Multilevel Inheritance: A child class inherits from a parent class, which in turn inherits from another parent class.\n",
        "  -  Hierarchical Inheritance: Multiple child classes inherit from a single parent class.\n",
        "  - Hybrid Inheritance: Combination of multiple inheritance types.\n",
        "\n",
        "- Benefits:\n",
        "  - Code Reusability: Child classes can reuse the code from the parent class.\n",
        "  - Modularity: Inheritance promotes modular code organization.\n",
        "  - Easier Maintenance: Changes to the parent class automatically propagate to child classes.\n",
        "\n",
        "-------------\n",
        "\n",
        "# 7. What is polymorphism in OOP?\n",
        "- In Object-Oriented Programming (OOP), polymorphism is the ability of an object to have multiple forms, depending on the context in which it is used. This allows objects of different classes to be treated as objects of a common superclass.\n",
        "\n",
        "- Types of Polymorphism:\n",
        "  - Method Overloading: Multiple methods with the same name but different parameters.\n",
        "  - Method Overriding: A subclass provides a different implementation of a method already defined in its superclass.\n",
        "  - Operator Overloading: Redefining operators such as +, -, *, / for user-defined classes.  \n",
        "  - Function Polymorphism: Functions that can take arguments of different types.\n",
        "\n",
        "- Benefits:\n",
        "  - Increased Flexibility: Polymorphism allows objects to adapt to different situations.\n",
        "  - Easier Code Maintenance: Polymorphism reduces code duplication and makes it easier to modify code.\n",
        "  - Improved Code Reusability: Polymorphism enables code to work with different types of data.\n",
        "\n",
        "  -----------\n",
        "\n",
        "# 8.  How is encapsulation achieved in Python?\n",
        "- Encapsulation in Python is achieved by using a combination of access modifiers and naming conventions to restrict access to an object's internal state.\n",
        "\n",
        "- Encapsulation Techniques:\n",
        "  - Getter and Setter methods:-- Use getter and setter methods to control access to an object's internal state.\n",
        "  - Property decorator:-- Use the @property decorator to create read-only or read-write properties.\n",
        "  - Name mangling:-- Use double underscore prefix to invoke name mangling, making it harder to access attributes directly.\n",
        "  \n",
        "  ---------------\n",
        "\n",
        "# 9. What is a constructor in Python?\n",
        "- In Python, a constructor is a special method of a class that is automatically called when an object of that class is created. It is used to initialize the attributes of the class and is typically used to set the initial state of the object.\n",
        "\n",
        "- Characteristics of a Constructor:\n",
        "  - Name:-- The constructor method is always named __init__.\n",
        "  - Parameters:-- The constructor method can take any number of parameters, but the first parameter is always a reference to the instance of the class and is conventionally named self.\n",
        "  - Return Value:-- The constructor method does not return any value.\n",
        "\n",
        "- Purpose of a Constructor:\n",
        "  - Initialization:-- The constructor is used to initialize the attributes of the class.\n",
        "  - Setup:-- The constructor can be used to set up the initial state of the object.\n",
        "  - Validation:-- The constructor can be used to validate the parameters passed to it.\n",
        "\n",
        "-------------------\n",
        "# 10. What are class and static methods in Python?\n",
        "- In Python, class methods and static methods are two types of methods that can be defined inside a class.\n",
        "\n",
        "- Class Methods:\n",
        "  - A class method is a method that is bound to the class rather than the instance of the class.\n",
        "  - The first parameter of a class method is always the class itself, conventionally named cls.\n",
        "  - Use Cases: Class methods are used when you want to define a method that is related to the class, but not to any specific instance of the class.\n",
        "- Example: A class method can be used to create an alternative constructor for a class.\n",
        "\n",
        "- Static Methods:\n",
        "  - A static method is a method that belongs to a class rather than an instance of the class.\n",
        "  - Unlike class methods and instance methods, static methods do not have any implicit parameters (like self or cls).\n",
        "  - Use Cases: Static methods are used when you want to group related utility functions together.\n",
        "- Example: A static method can be used to define a utility function that is related to the class, but does not depend on the state of the class.\n",
        "\n",
        "---------\n",
        "# 11. What is method overloading in Python?\n",
        "- Method overloading is a feature that allows multiple methods with the same name to be defined, but avilabe only in some programming languages, with different parameter lists. However, Python does not support method overloading in the classical sense.\n",
        "\n",
        "- Python doesn't support method overloading:-- Python's dynamic typing and lack of explicit type definitions make it difficult to implement method overloading in the same way as statically-typed languages like Java or C++.\n",
        "\n",
        "- How to achieve method overloading-like behavior in Python:\n",
        "  - Default argument values:-- Use default argument values to create functions that can handle different numbers of arguments.\n",
        "  - Variable-length argument lists:-- Use *args or **kwargs to create functions that can handle variable-length argument lists.\n",
        "  - Single Dispatch:-- Use the @singledispatch decorator from the functools module to create functions that can dispatch to different implementations based on the type of the first argument.\n",
        "\n",
        "\n",
        "  ------------\n",
        "\n",
        "# 12. What is method overriding in OOP?\n",
        "- Method overriding is a fundamental concept in Object-Oriented Programming (OOP) which allows a subclass or derived class to provide a specific implementation for a method that is already created or defined in its superclass or base class.\n",
        "\n",
        "- Key characteristics of method overriding:\n",
        "  - Same method name:-- The method in the subclass will have the same name as the method in the superclass.\n",
        "  - Same method signature:-- The method in the subclass will have the same parameter list as the method in the superclass.\n",
        "  - Different implementation:-- The method in the subclass provides a different implementation than the method in the superclass.\n",
        "\n",
        "- Purpose of method overriding:\n",
        "  - Specialization: Method overriding allows a subclass to specialize the behavior of a method to suit its specific needs.\n",
        "  - Customization: Method overriding enables a subclass to customize the behavior of a method to provide a different implementation.\n",
        "  \n",
        "-----------\n",
        "\n",
        "# 13. What is a property decorator in Python?\n",
        "- In Python, a property decorator is a special type of decorator that allows us to customize access to instance variables. It provides a way to implement getters, setters, and deleters for instance variables, enables to control how they are accessed and modified.\n",
        "\n",
        "- Use of property decorators:\n",
        "  - Encapsulation: Property decorators help encapsulate instance variables, making it difficult for external code to modify them directly.\n",
        "  - Validation: We can use property decorators to validate the values assigned to instance variables.\n",
        "  - Computed properties: Property decorators enable us to create computed properties, which are calculated on the fly when accessed.\n",
        "\n",
        "----\n",
        "\n",
        "# 14.  Why is polymorphism important in OOP?\n",
        "- Polymorphism is a fundamental concept in Object-Oriented Programming (OOP) which allows objects of different classes to be treated as objects of a common superclass. This enables more flexibility, generic code, and increased modularity.\n",
        "\n",
        "- Key benefits of polymorphism:\n",
        "  - Generic code:-- Polymorphism enables to write generic code that can work with objects of different classes, reducing code duplication.\n",
        "  - Increased flexibility:-- Polymorphism allows us to change the behavior of a program without modifying its structure, making it more adaptable to changing requirements.\n",
        "  - Easier maintenance:-- Polymorphism promotes modularity, making it easier to modify or extend individual components without affecting the entire system.\n",
        "  - Improved extensibility:-- Polymorphism enables us to add new functionality without modifying existing code, making it easier to extend and enhance a system.\n",
        "\n",
        "----------\n",
        "\n",
        "#15. What is an abstract class in Python?\n",
        "- In Python, an abstract class is a class which cannot be instantiated on its own and is designed to be inherited by other classes. Abstract classes are useful for providing a blueprint or a base class for other classes to follow.\n",
        "\n",
        "- Key characteristics of abstract classes:\n",
        "  - Cannot be instantiated: Abstract classes cannot be instantiated directly,so we cannot create an object from an abstract class.\n",
        "  - Must be inherited: Abstract classes are designed to be inherited by other classes, which can later implement the abstract methods.\n",
        "  - Can have abstract methods: Abstract classes can have abstract methods, which are methods declared without an implementation.\n",
        "  - Can have concrete methods: Abstract classes can also have concrete methods, which are methods with an implementation.\n",
        "\n",
        "-------------\n",
        "\n",
        "\n",
        "# 16. What are the advantages of OOP?\n",
        "- Object-Oriented Programming (OOP) has several advantages which make it a popular and widely-used programming paradigm.\n",
        "\n",
        "Advantages of OOP:\n",
        "  - Code Reusability:-- OOP enables code reusability through inheritance, polymorphism, and encapsulation, reducing the need to duplicate code.\n",
        "  - Improved Readability:-- OOPs use objects and classes making code more readable and easier to understand, as objects and classes provide a clear and concise representation of real-world entities and concepts.\n",
        "  - Modularity:-- OOP allows for the creation of self-contained modules (objects) that can be easily reused and combined to form more complex systems.\n",
        "  - Better Organization:-- OOP promotes better organization and structure in program, making it easier to navigate and understand complex systems.\n",
        "  - Easier Maintenance:-- OOP's modular and encapsulated nature makes it easy to modify and maintain code, as changes can be made at the object level without affecting the entire system.\n",
        "  - Enhanced Flexibility:-- OOP's use of polymorphism and inheritance enables systems to be more flexible and adaptable, by allowing objects and classes to be easily modified or extended.\n",
        "  - Enhanced Reliability:-- OOP's focus on encapsulation and data hiding helps to ensure that data is accurate, reducing the likelihood of errors and bugs.\n",
        "  - Improved Scalability:-- OOP's modular and object-based nature makes it easier to scale systems up or down as required, by adding or removing objects and classes.\n",
        "\n",
        "-------\n",
        "\n",
        "# 17. What is the difference between a class variable and an instance variable?\n",
        "- In object-oriented programming (OOP), a class variable and an instance variable are two types of variables which have different functionality.\n",
        "\n",
        "- Class Variable:-- A class variable is a variable that is shared by all instances of a class. It is defined inside the class definition, but outside any instance method. Class variables are also known as static variables.\n",
        "\n",
        "  - Characteristics:\n",
        "    - Shared by all instances:-- Class variables are shared by all instances of a class.\n",
        "    - Defined at the class level:-- Class variables are defined inside the class definition, but outside any instance method.\n",
        "    - Same value for all instances: Class variables have the same value for all instances of a class.\n",
        "\n",
        "- Instance Variable:-- An instance variable is a variable that is unique to each instance of a class. It is defined inside an instance method or in a constructor.\n",
        "\n",
        "  - Characteristics:\n",
        "    - Unique to each instance: Instance variables are unique to each instance of a class.\n",
        "    - Defined at the instance level: Instance variables are defined inside an instance method or a constructor.\n",
        "    - Different value for each instance: Instance variables can have different values for each instance of a class.\n",
        "\n",
        "------\n",
        "\n",
        "# 18.  What is multiple inheritance in Python?\n",
        "- Multiple inheritance in Python is a feature that allows a class to inherit properties and methods from more than one superclass or parent class.\n",
        "\n",
        "- Syntax:\n",
        "\n",
        "    class Subclass(ParentClass1, ParentClass2):\n",
        "    pass\n",
        "\n",
        "'''Example:'''\n",
        "   \n",
        "    class Animal:\n",
        "    def eat(self):\n",
        "    print(\"Eating\")\n",
        "\n",
        "    class Mammal:\n",
        "    def walk(self):\n",
        "    print(\"Walking\")\n",
        "\n",
        "    class Dog(Animal, Mammal):\n",
        "    def bark(self):\n",
        "    print(\"Barking\")\n",
        "\n",
        "    my_dog = Dog()\n",
        "    my_dog.eat()  # Output: Eating\n",
        "    my_dog.walk()  # Output: Walking\n",
        "    my_dog.bark()  # Output: Barking\n",
        "\n",
        "-------\n",
        "\n",
        "\n",
        "# 19. Explain the purpose of ‘’__str__’ and ‘__repr__’ ‘ methods in Python.\n",
        "- In Python, __str__ and __repr__ are two special methods that serve distinct purposes:\n",
        "\n",
        "*__str__:*\n",
        "1. String representation:-- __str__ returns a string that represents the object in a human-readable format.\n",
        "2. Intended for end-users:-- The string returned by __str__ is intended for end-users, providing a breif and meaningful representation of the object.\n",
        "3. Example: print(my_object) will call my_object.__str__().\n",
        "\n",
        "*__repr__:*\n",
        "1. Representation for debugging: __repr__ returns a string that represents the object in a way that's useful for debugging and logging.\n",
        "2. Intended for developers: The string returned by __repr__ is intended for developers, providing a detailed and informative representation of the object.\n",
        "3. Example: print(repr(my_object)) or my_object in a debugger will call my_object.__repr__().\n",
        "\n",
        "-------\n",
        "\n",
        "# 20. What is the significance of the ‘super()’ function in Python?\n",
        "- In Python, super() is a built-in function that allows us to access the methods and properties of a parent class (a superclass) from a child class (a subclass).\n",
        "\n",
        "- *Significance of super():*\n",
        "  - Method overriding:-- super() enables to override methods in the parent class while still allowing us to call the original method.\n",
        "  - Method extension:-- super() allows us to extend the behavior of a method in the parent class by calling the original method and then adding new behavior.\n",
        "  - Accessing parent class attributes:-- super() provides access to the attributes (data members) of the parent class.\n",
        "  - Returns a proxy object:-- super() returns a proxy object that allows us to access the methods and attributes of the parent class.\n",
        "  - Automatically resolves the parent class: When we call super(), Python automatically resolves the parent class, so you don't need to specify it explicitly.\n",
        "\n",
        "------\n",
        "\n",
        "# 21.  What is the significance of the __del__ method in Python?\n",
        "- In Python, the __del__ method is a special method which is automatically called when an object is about to be destroyed. This method is also known as the destructor.\n",
        "\n",
        "*Significance of __del__:*\n",
        "- Cleanup resources: The __del__ method is used to clean up resources such as file handles, network connections, or database connections which were previously opened by the object.\n",
        "- Release memory: The __del__ method helps to release memory occupied by the object, helps to prevent memory leaks.\n",
        "- Perform finalization tasks: The __del__ method can be used to perform any finalization tasks, such as logging or sending notifications.\n",
        "\n",
        "- The __del__ method is called when the object is garbage collected, which typically happens when there are no more references to the object.\n",
        "- The __del__ method is also called when the program exits, which can be useful for performing finalization tasks.\n",
        "\n",
        "---\n",
        "\n",
        "# 22. What is the difference between @staticmethod and @classmethod in Python?\n",
        "- In Python, @staticmethod and @classmethod are two types of decorators that can be used to define methods in a class. The key difference between them is the way they interact with the class and its instances.\n",
        "\n",
        "*@staticmethod:*\n",
        "1. No access to class or instance: A static method has no access to the class or instance variables.\n",
        "2. Treated as a regular function: A static method is treated as a regular function, and its first argument is not automatically passed in.\n",
        "3. Cannot modify class or instance state: A static method cannot modify the state of the class or instance.\n",
        "\n",
        "*@classmethod:*\n",
        "1. Access to class variables: A class method has access to the class variables.\n",
        "2. First argument is the class: The first argument of a class method is the class itself, which is referred to as cls.\n",
        "3. Can modify class state: A class method can modify the state of the class.\n",
        "\n",
        "Key differences:\n",
        "1. Access to class and instance variables: @classmethod has access to class variables, while @staticmethod does not.\n",
        "2. First argument: The first argument of @classmethod is the class itself (cls), while @staticmethod has no special first argument.\n",
        "3. Ability to modify class state: @classmethod can modify the state of the class, while @staticmethod cannot.\n",
        "\n",
        "-----\n",
        "\n",
        "# 23. How does polymorphism work in Python with inheritance?\n",
        "- Polymorphism in Python is the ability of an object to take on multiple forms, depending on the context in which it's used. Inheritance is a key mechanism for achieving polymorphism in Python.\n",
        "\n",
        "- How Polymorphism Works with Inheritance:\n",
        "  - Base class:-- Define a base class with methods that can be overridden by subclasses.\n",
        "  - Subclass: Create a subclass that inherits from the base class and overrides few or all of its methods.\n",
        "  - Method overriding: When a subclass overrides a method of its base class, it provides a specific implementation for that method.\n",
        "  - Polymorphic behavior: When creating objects from the subclass and call methods on them, Python uses the overridden methods in the subclass, rather than the original methods in the base class.\n",
        "\n",
        "------\n",
        "# 24. What is method chaining in Python OOP?\n",
        "- Method chaining is a technique in Python's Object-Oriented Programming (OOP) that allows to call multiple methods for an object in a single statement. This can be achieved by having each method return the object itself (self), enabling us to chain method calls together.\n",
        "\n",
        "- Benefits of Method Chaining:\n",
        "  -  Concise code: Method chaining allows us to write more concise code, reducing the need for intermediate variables.\n",
        "  - Improved readability: By chaining methods together, we can create a more fluid and readable code sequence.\n",
        "  - Easier maintenance: Method chaining can make our code easier to maintain, as we can add or remove methods from the chain without affecting the overall code structure.\n",
        "\n",
        "  -----------\n",
        "\n",
        "# 25. What is the purpose of the __call__ method in Python?\n",
        "- In Python, the __call__ method is a special method that allows an object to be called as a function. This method is used when the object is used as a function, i.e., when parentheses () are used after the object name.\n",
        "\n",
        "*Purpose of __call__:*\n",
        "- Make an object callable:-- The __call__ method enables an object to be called as a function, allowing it to behave like a function.\n",
        "- Customize function-like behavior:-- By implementing the __call__ method, we can customize the behavior of an object when it's used as a function.\n",
        "- Enhance flexibility:-- The __call__ method provides flexibility in programming, as it allows objects to be used in a more functional way.\n",
        "\n",
        "\n",
        "\n",
        "\n",
        "\n",
        "\n"
      ],
      "metadata": {
        "id": "K-zJ-Sv1WNOi"
      }
    },
    {
      "cell_type": "markdown",
      "source": [
        "# Practical Questions Below"
      ],
      "metadata": {
        "id": "NH5txuTRhemo"
      }
    },
    {
      "cell_type": "code",
      "source": [
        "''' 1.  Create a parent class Animal with a method speak() that prints a generic message. Create a child class Dog\n",
        "that overrides the speak() method to print \"Bark!\".'''\n",
        "class Animal:\n",
        "    def speak(self):\n",
        "        print(\"Generic animal sound\")\n",
        "\n",
        "class Dog(Animal):\n",
        "    def speak(self):\n",
        "        print(\"Bark!\")"
      ],
      "metadata": {
        "id": "KCnxwXAXhIdX"
      },
      "execution_count": null,
      "outputs": []
    },
    {
      "cell_type": "code",
      "source": [
        "'''2.  Write a program to create an abstract class Shape with a method area(). Derive classes Circle and Rectangle\n",
        "from it and implement the area() method in both.'''\n",
        "from abc import ABC, abstractmethod\n",
        "\n",
        "class Shape(ABC):\n",
        "    @abstractmethod\n",
        "    def area(self):\n",
        "        pass\n",
        "\n",
        "class Circle(Shape):\n",
        "    def __init__(self, radius):\n",
        "        self.radius = radius\n",
        "\n",
        "    def area(self):\n",
        "        return 3.14 * self.radius * self.radius\n",
        "class Rectangle(Shape):\n",
        "  def __init__(self, length, bredth ):\n",
        "       self.length=length\n",
        "       self.bredth=bredth\n",
        "  def area(self):\n",
        "        return self.length*self.bredth\n",
        "\n",
        "# Example usage\n",
        "circle = Circle(5)\n",
        "rectangle = Rectangle(6, 6)\n",
        "\n",
        "print(f\"Area of Circle: {circle.area()}\")\n",
        "print(f\"Area of Rectangle: {rectangle.area()}\")"
      ],
      "metadata": {
        "colab": {
          "base_uri": "https://localhost:8080/"
        },
        "id": "wz_H0qLR8Mu0",
        "outputId": "cc7ba078-6f13-4893-e59f-baf270ab7db5"
      },
      "execution_count": null,
      "outputs": [
        {
          "output_type": "stream",
          "name": "stdout",
          "text": [
            "Area of Circle: 78.5\n",
            "Area of Rectangle: 36\n"
          ]
        }
      ]
    },
    {
      "cell_type": "code",
      "source": [
        "''' 3. Implement a multi-level inheritance scenario where a class Vehicle has an attribute type. Derive a class Car\n",
        "and further derive a class ElectricCar that adds a battery attribute.'''\n",
        "class Vehicle:\n",
        "    def __init__(self, type):\n",
        "        self.type = type\n",
        "\n",
        "    def display_details(self):\n",
        "        print(f\"Vehicle Type: {self.type}\")\n",
        "\n",
        "# Intermediate class Car that inherits from Vehicle\n",
        "class Car(Vehicle):\n",
        "    def __init__(self, type, brand, model):\n",
        "        super().__init__(type)  # Call the Vehicle constructor\n",
        "        self.brand = brand\n",
        "        self.model = model\n",
        "\n",
        "    def display_details(self):\n",
        "        super().display_details()  # Call the Vehicle display_details method\n",
        "        print(f\"Brand: {self.brand}, Model: {self.model}\")\n",
        "\n",
        "# Derived class ElectricCar that inherits from Car\n",
        "class ElectricCar(Car):\n",
        "    def __init__(self, type, brand, model, battery_capacity):\n",
        "        super().__init__(type, brand, model)  # Call the Car constructor\n",
        "        self.battery_capacity = battery_capacity\n",
        "\n",
        "    def display_details(self):\n",
        "        super().display_details()  # Call the Car display_details method\n",
        "        print(f\"Battery Capacity: {self.battery_capacity} kWh\")\n",
        "\n",
        "# Create an instance of ElectricCar\n",
        "my_electric_car = ElectricCar(\"Car\", \"Tata\", \"Curve\", 59)\n",
        "\n",
        "# Display details of the ElectricCar instance\n",
        "my_electric_car.display_details()\n"
      ],
      "metadata": {
        "colab": {
          "base_uri": "https://localhost:8080/"
        },
        "id": "TzWhsWJg9oB1",
        "outputId": "9b9a6c39-1494-4119-e5ab-4e7c1ac2a6af"
      },
      "execution_count": null,
      "outputs": [
        {
          "output_type": "stream",
          "name": "stdout",
          "text": [
            "Vehicle Type: Car\n",
            "Brand: Tata, Model: Curve\n",
            "Battery Capacity: 59 kWh\n"
          ]
        }
      ]
    },
    {
      "cell_type": "code",
      "source": [
        "'''4.  Demonstrate polymorphism by creating a base class Bird with a method fly(). Create two derived classes\n",
        "Sparrow and Penguin that override the fly() method.'''\n",
        "class Bird:\n",
        "    def fly(self):\n",
        "        print(\"The bird is flying.\")\n",
        "\n",
        "# Derived class Sparrow that inherits from Bird\n",
        "class Sparrow(Bird):\n",
        "    def fly(self):\n",
        "        print(\"The sparrow can fly swiftly in the air.\")\n",
        "\n",
        "# Derived class Penguin that inherits from Bird\n",
        "class Penguin(Bird):\n",
        "    def fly(self):\n",
        "        print(\"The penguin cannot fly, but it can swim fast.\")\n",
        "\n",
        "# Create a list of Bird objects\n",
        "birds = [Sparrow(), Penguin(), Bird()]\n",
        "\n",
        "# Iterate over the list and call the fly() method on each object\n",
        "for bird in birds:\n",
        "    bird.fly()"
      ],
      "metadata": {
        "colab": {
          "base_uri": "https://localhost:8080/"
        },
        "id": "xf52dM19_BDZ",
        "outputId": "ce6dc044-dfdc-498b-a010-e67392fcafd7"
      },
      "execution_count": null,
      "outputs": [
        {
          "output_type": "stream",
          "name": "stdout",
          "text": [
            "The sparrow can fly swiftly in the air.\n",
            "The penguin cannot fly, but it can swim fast.\n",
            "The bird is flying.\n"
          ]
        }
      ]
    },
    {
      "cell_type": "code",
      "source": [
        "'''5. Write a program to demonstrate encapsulation by creating a class BankAccount with private attributes\n",
        "balance and methods to deposit, withdraw, and check balance.'''\n",
        "class BankAccount:\n",
        "    def __init__(self, initial_balance=0):\n",
        "        self.__balance = initial_balance  # Private attribute\n",
        "\n",
        "    def deposit(self, amount):\n",
        "        if amount > 0:\n",
        "            self.__balance += amount\n",
        "            print(f\"Deposited ₹{amount}. Current balance: ₹{self.__balance}\")\n",
        "        else:\n",
        "            print(\"Invalid deposit amount.\")\n",
        "\n",
        "    def withdraw(self, amount):\n",
        "        if 0 < amount <= self.__balance:\n",
        "            self.__balance -= amount\n",
        "            print(f\"Withdrew ₹{amount}. Current balance: ₹{self.__balance}\")\n",
        "        else:\n",
        "            print(\"Insufficient balance or invalid withdrawal amount.\")\n",
        "\n",
        "    def check_balance(self):\n",
        "        print(f\"Current balance: ₹{self.__balance}\")\n",
        "\n",
        "# Create a BankAccount object\n",
        "account = BankAccount(1000)\n",
        "\n",
        "# Perform banking operations\n",
        "account.check_balance()  # Output: Current balance: $1000\n",
        "account.deposit(500)    # Output: Deposited $500. Current balance: $1500\n",
        "account.withdraw(200)   # Output: Withdrew $200. Current balance: $1300\n",
        "account.check_balance()  # Output: Current balance: $1300\n",
        "\n",
        "# Attempt to access private attribute directly (will raise an AttributeError)\n",
        "try:\n",
        "    print(account.__balance)\n",
        "except AttributeError:\n",
        "    print(\"Error: Cannot access private attribute directly.\")"
      ],
      "metadata": {
        "colab": {
          "base_uri": "https://localhost:8080/"
        },
        "id": "JVU3lmDw_rw7",
        "outputId": "196a276a-b6a1-4728-889a-1c2280945073"
      },
      "execution_count": null,
      "outputs": [
        {
          "output_type": "stream",
          "name": "stdout",
          "text": [
            "Current balance: ₹1000\n",
            "Deposited ₹500. Current balance: ₹1500\n",
            "Withdrew ₹200. Current balance: ₹1300\n",
            "Current balance: ₹1300\n",
            "Error: Cannot access private attribute directly.\n"
          ]
        }
      ]
    },
    {
      "cell_type": "code",
      "source": [
        "'''6.  Demonstrate runtime polymorphism using a method play() in a base class Instrument. Derive classes Guitar\n",
        "and Piano that implement their own version of play(). '''\n",
        "class Instrument:\n",
        "    def play(self):\n",
        "        print(\"The instruments are being played.\")\n",
        "\n",
        "# Derived class Guitar that inherits from Instrument\n",
        "class Guitar(Instrument):\n",
        "    def play(self):\n",
        "        print(\"The guitar is amazing.\")\n",
        "\n",
        "# Derived class Piano that inherits from Instrument\n",
        "class Piano(Instrument):\n",
        "    def play(self):\n",
        "        print(\"The piano is playing a melody song.\")\n",
        "\n",
        "# Create a list of Instrument objects\n",
        "instruments = [Guitar(), Piano(), Instrument()]\n",
        "\n",
        "# Iterate over the list and call the play() method on each object\n",
        "for instrument in instruments:\n",
        "    instrument.play()"
      ],
      "metadata": {
        "colab": {
          "base_uri": "https://localhost:8080/"
        },
        "id": "cGT3JA7ZA8iO",
        "outputId": "f6e60652-40d3-4e51-b681-23dca3ddefd5"
      },
      "execution_count": null,
      "outputs": [
        {
          "output_type": "stream",
          "name": "stdout",
          "text": [
            "The guitar is amazing.\n",
            "The piano is playing a melody song.\n",
            "The instruments are being played.\n"
          ]
        }
      ]
    },
    {
      "cell_type": "code",
      "source": [
        "'''7. Create a class MathOperations with a class method add_numbers() to add two numbers and a static\n",
        "method subtract_numbers() to subtract two numbers.'''\n",
        "class MathOperations:\n",
        "    # Class method for two numbers addition\n",
        "    @classmethod\n",
        "    def add_numbers(cls, num1, num2):\n",
        "        return num1 + num2\n",
        "\n",
        "    # Static method to subtract two numbers\n",
        "    @staticmethod\n",
        "    def subtract_numbers(num1, num2):\n",
        "        return num1 - num2\n",
        "\n",
        "# usage:\n",
        "print(MathOperations.add_numbers(9, 5))\n",
        "print(MathOperations.subtract_numbers(13, 5))"
      ],
      "metadata": {
        "colab": {
          "base_uri": "https://localhost:8080/"
        },
        "id": "2wzXaLdtBlw8",
        "outputId": "befe138c-513f-4872-f8a3-e9279f2f217f"
      },
      "execution_count": null,
      "outputs": [
        {
          "output_type": "stream",
          "name": "stdout",
          "text": [
            "14\n",
            "8\n"
          ]
        }
      ]
    },
    {
      "cell_type": "code",
      "source": [
        "'''8.  Implement a class Person with a class method to count the total number of persons created. '''\n",
        "class Person:\n",
        "    # Class variable to store the count of persons\n",
        "    person_count = 0\n",
        "\n",
        "    def __init__(self, name, age):\n",
        "        self.name = name\n",
        "        self.age = age\n",
        "        # Increment the person count when a new person is created\n",
        "        Person.person_count += 1\n",
        "\n",
        "    # Class method to get the total count of persons\n",
        "    @classmethod\n",
        "    def get_person_count(cls):\n",
        "        return cls.person_count\n",
        "\n",
        "# sample\n",
        "person1 = Person(\"Harsh\", 23)\n",
        "person2 = Person(\"Aman\", 25)\n",
        "person3 = Person(\"Rohan\", 19)\n",
        "\n",
        "print(Person.get_person_count())"
      ],
      "metadata": {
        "colab": {
          "base_uri": "https://localhost:8080/"
        },
        "id": "F9aXD6RTCL30",
        "outputId": "e9245dc6-db1e-46cb-c8ee-acb236a4bd05"
      },
      "execution_count": null,
      "outputs": [
        {
          "output_type": "stream",
          "name": "stdout",
          "text": [
            "3\n"
          ]
        }
      ]
    },
    {
      "cell_type": "code",
      "source": [
        "'''9. Write a class Fraction with attributes numerator and denominator. Override the str method to display the\n",
        "fraction as \"numerator/denominator\".'''\n",
        "class Fraction:\n",
        "    def __init__(self, numerator, denominator):\n",
        "        if denominator == 0:\n",
        "            raise ValueError(\"Denominator can't be zero.\")\n",
        "        self.numerator = numerator\n",
        "        self.denominator = denominator\n",
        "\n",
        "    # Override the __str__ method to display the fraction as \"numerator/denominator\"\n",
        "    def __str__(self):\n",
        "        return f\"{self.numerator}/{self.denominator}\"\n",
        "\n",
        "#example:\n",
        "fraction1 = Fraction(3, 5)\n",
        "print(fraction1)  # Output: 3/4\n",
        "\n",
        "fraction2 = Fraction(3, 6)\n",
        "print(fraction2)  # Output: 1/2\n",
        "\n",
        "# Attempt to create a fraction with a zero denominator (will raise a ValueError)\n",
        "try:\n",
        "    fraction3 = Fraction(5, 0)\n",
        "except ValueError as e:\n",
        "    print(e)  # Output: Denominator cannot be zero.\n"
      ],
      "metadata": {
        "colab": {
          "base_uri": "https://localhost:8080/"
        },
        "id": "oE-M0SMSDWSI",
        "outputId": "4cf81dc2-9ec3-4f02-c545-4f4d20df0a4c"
      },
      "execution_count": null,
      "outputs": [
        {
          "output_type": "stream",
          "name": "stdout",
          "text": [
            "3/5\n",
            "3/6\n",
            "Denominator can't be zero.\n"
          ]
        }
      ]
    },
    {
      "cell_type": "code",
      "source": [
        "'''10.  Demonstrate operator overloading by creating a class Vector and overriding the add method to add two vectors. '''\n",
        "class Vector:\n",
        "    def __init__(self, x, y):\n",
        "        self.x = x\n",
        "        self.y = y\n",
        "\n",
        "    # Override the __add__ method to add two vectors\n",
        "    def __add__(self, other):\n",
        "        if isinstance(other, Vector):\n",
        "            return Vector(self.x + other.x, self.y + other.y)\n",
        "        else:\n",
        "            raise TypeError(\"Unsupported operand +\")\n",
        "\n",
        "    # Override the __str__ method to provide a string representation of the vector\n",
        "    def __str__(self):\n",
        "        return f\"({self.x}, {self.y})\"\n",
        "\n",
        "# example:\n",
        "vector1 = Vector(2, 3)\n",
        "vector2 = Vector(4, 5)\n",
        "\n",
        "# Add two vectors using the + operator\n",
        "result_vector = vector1 + vector2\n",
        "print(result_vector)  # Output: (6, 8)\n",
        "\n",
        "# Attempt to add with a non-vector object (raise a TypeError)\n",
        "try:\n",
        "    result_vector = vector1 + 5\n",
        "except TypeError as e:\n",
        "    print(e)  # Output: Unsupported operand type for +"
      ],
      "metadata": {
        "colab": {
          "base_uri": "https://localhost:8080/"
        },
        "id": "cc-WeSa1EK1T",
        "outputId": "a9594ced-5bd6-4ca9-a174-cbb0062c43aa"
      },
      "execution_count": null,
      "outputs": [
        {
          "output_type": "stream",
          "name": "stdout",
          "text": [
            "(6, 8)\n",
            "Unsupported operand +\n"
          ]
        }
      ]
    },
    {
      "cell_type": "code",
      "source": [
        "'''11.  Create a class Person with attributes name and age. Add a method greet() that prints \"Hello, my name is{name} and I am {age} years old.\"'''\n",
        "class Person:\n",
        "    def __init__(self, name, age):\n",
        "        self.name = name\n",
        "        self.age = age\n",
        "\n",
        "    def greet(self):\n",
        "        print(f\"Hello, my name is {self.name} and I am {self.age} years old.\")\n",
        "\n",
        "# Example usage:\n",
        "person = Person(\"Harsh Kumar\", 23)\n",
        "person.greet()\n",
        "# Output: Hello, my name is John Doe and I am 30 years old.\n"
      ],
      "metadata": {
        "colab": {
          "base_uri": "https://localhost:8080/"
        },
        "id": "MVHjaHekE6nf",
        "outputId": "26b8eba9-d791-41c3-f2a9-d5ab088070b4"
      },
      "execution_count": null,
      "outputs": [
        {
          "output_type": "stream",
          "name": "stdout",
          "text": [
            "Hello, my name is Harsh Kumar and I am 23 years old.\n"
          ]
        }
      ]
    },
    {
      "cell_type": "code",
      "source": [
        "'''12. Implement a class Student with attributes name and grades. Create a method average_grade() to compute the average of the grades.'''\n",
        "class Student:\n",
        "    def __init__(self, name, grades=None):\n",
        "        self.name = name\n",
        "        self.grades = grades if grades is not None else []\n",
        "\n",
        "    def add_grade(self, grade):\n",
        "        self.grades.append(grade)\n",
        "\n",
        "    def average_grade(self):\n",
        "        if not self.grades:\n",
        "            return 0\n",
        "        return sum(self.grades) / len(self.grades)\n",
        "\n",
        "# Example usage:\n",
        "student = Student(\"Mohit Verma\")\n",
        "student.add_grade(85)\n",
        "student.add_grade(90)\n",
        "student.add_grade(78)\n",
        "\n",
        "print(f\"Average grade for {student.name}: {student.average_grade():.2f}\")"
      ],
      "metadata": {
        "colab": {
          "base_uri": "https://localhost:8080/"
        },
        "id": "eLHt043XFRQw",
        "outputId": "ca7ca913-3f63-4ad5-9b8b-50e54ada61b0"
      },
      "execution_count": null,
      "outputs": [
        {
          "output_type": "stream",
          "name": "stdout",
          "text": [
            "Average grade for Mohit Verma: 84.33\n"
          ]
        }
      ]
    },
    {
      "cell_type": "code",
      "source": [
        "'''13. Create a class Rectangle with methods set_dimensions() to set the dimensions and area() to calculate the area.'''\n",
        "class Rectangle:\n",
        "    def __init__(self):\n",
        "        self.width = 0\n",
        "        self.height = 0\n",
        "\n",
        "    def set_dimensions(self, width, height):\n",
        "        if width <= 0 or height <= 0:\n",
        "            raise ValueError(\"Width and height must be positive numbers but your input is invalid!!\")\n",
        "        self.width = width\n",
        "        self.height = height\n",
        "\n",
        "    def area(self):\n",
        "        return self.width * self.height\n",
        "\n",
        "# example\n",
        "rectangle = Rectangle()\n",
        "rectangle.set_dimensions(7, 13)\n",
        "print(f\"Rectangle area: {rectangle.area()}\")\n",
        "\n",
        "# Attempt to set invalid dimensions (raise a ValueError)\n",
        "try:\n",
        "    rectangle.set_dimensions(0, 12)\n",
        "except ValueError as e:\n",
        "    print(e)"
      ],
      "metadata": {
        "colab": {
          "base_uri": "https://localhost:8080/"
        },
        "id": "IrF2LK_YFxLs",
        "outputId": "7fa06f94-bf6e-459e-efe7-58756cf6b781"
      },
      "execution_count": null,
      "outputs": [
        {
          "output_type": "stream",
          "name": "stdout",
          "text": [
            "Rectangle area: 91\n",
            "Width and height must be positive numbers but your input is invalid!!\n"
          ]
        }
      ]
    },
    {
      "cell_type": "code",
      "source": [
        "''' 14.  Create a class Employee with a method calculate_salary() that computes the salary based on hours worked and hourly rate. Create a derived class Manager that adds a bonus to the salary'''\n",
        "# Base class\n",
        "class Employee:\n",
        "    def __init__(self, name, hours_worked, hourly_rate):\n",
        "        self.name = name\n",
        "        self.hours_worked = hours_worked\n",
        "        self.hourly_rate = hourly_rate\n",
        "\n",
        "    def calculate_salary(self):\n",
        "        return self.hours_worked * self.hourly_rate\n",
        "\n",
        "# Derived class\n",
        "class Manager(Employee):\n",
        "    def __init__(self, name, hours_worked, hourly_rate, bonus):\n",
        "        super().__init__(name, hours_worked, hourly_rate)\n",
        "        self.bonus = bonus\n",
        "\n",
        "    def calculate_salary(self):\n",
        "        base_salary = super().calculate_salary()\n",
        "        return base_salary + self.bonus\n",
        "\n",
        "# Example usage\n",
        "emp = Employee(\"Manesh\", 38, 1000)\n",
        "print(f\"Employee Salary: ₹{emp.calculate_salary()}\")\n",
        "\n",
        "mgr = Manager(\"Rahul\", 40, 1200, 500)\n",
        "print(f\"Manager Salary: ₹{mgr.calculate_salary()}\")\n"
      ],
      "metadata": {
        "colab": {
          "base_uri": "https://localhost:8080/"
        },
        "id": "LReduxkJPugk",
        "outputId": "862d0119-813c-4dfe-9efa-0f95ea6b93da"
      },
      "execution_count": 3,
      "outputs": [
        {
          "output_type": "stream",
          "name": "stdout",
          "text": [
            "Employee Salary: ₹38000\n",
            "Manager Salary: ₹48500\n"
          ]
        }
      ]
    },
    {
      "cell_type": "code",
      "source": [
        "''' 15. Create a class Product with attributes name, price, and quantity. Implement a method total_price() that calculates the total price of the product'''\n",
        "class Product:\n",
        "    def __init__(self, name, price, quantity):\n",
        "        self.name = name\n",
        "        self.price = price\n",
        "        self.quantity = quantity\n",
        "\n",
        "    def total_price(self):\n",
        "        return self.price * self.quantity\n",
        "\n",
        "    def __str__(self):\n",
        "\n",
        "#Returns a string representation of the Product object.\n",
        "        return f\"Product: {self.name}, Price: ₹{self.price:.2f}, Quantity: {self.quantity}\"\n",
        "\n",
        "# Example usage\n",
        "product = Product(\"Samsung s24\", 90000, 1)\n",
        "print(product)\n",
        "print(f\"Total Price: ₹{product.total_price():.2f}\")"
      ],
      "metadata": {
        "colab": {
          "base_uri": "https://localhost:8080/"
        },
        "id": "ZZyGZH0cRF8z",
        "outputId": "ce74e9eb-0575-4b4a-e3b0-689a14a6c02d"
      },
      "execution_count": 6,
      "outputs": [
        {
          "output_type": "stream",
          "name": "stdout",
          "text": [
            "Product: Samsung s24, Price: ₹90000.00, Quantity: 1\n",
            "Total Price: ₹90000.00\n"
          ]
        }
      ]
    },
    {
      "cell_type": "code",
      "source": [
        "''' 16. Create a class Animal with an abstract method sound(). Create two derived classes Cow and Sheep that implement the sound() method. '''\n",
        "from abc import ABC, abstractmethod\n",
        "\n",
        "class Animal(ABC):\n",
        "    @abstractmethod\n",
        "    def sound(self):\n",
        "        pass\n",
        "\n",
        "# Derived class Cow\n",
        "class Cow(Animal):\n",
        "    def sound(self):\n",
        "        return \"Moo!\"\n",
        "\n",
        "# Derived class Sheep\n",
        "class Sheep(Animal):\n",
        "    def sound(self):\n",
        "        return \"Baa!\"\n",
        "\n",
        "# Example usage\n",
        "def main():\n",
        "    farm_animals = [Cow(), Sheep()]\n",
        "\n",
        "    for animal in farm_animals:\n",
        "        print(f\"{type(animal).__name__}: {animal.sound()}\")\n",
        "\n",
        "if __name__ == \"__main__\":\n",
        "    main()"
      ],
      "metadata": {
        "colab": {
          "base_uri": "https://localhost:8080/"
        },
        "id": "i-InA-cFR_TE",
        "outputId": "f0fd0a5e-facd-4ce0-df1a-75dd82f672cf"
      },
      "execution_count": 13,
      "outputs": [
        {
          "output_type": "stream",
          "name": "stdout",
          "text": [
            "Cow: Moo!\n",
            "Sheep: Baa!\n"
          ]
        }
      ]
    },
    {
      "cell_type": "code",
      "source": [
        "''' 17.  Create a class Book with attributes title, author, and year_published. Add a method get_book_info() that returns a formatted string with the book's details. '''\n",
        "class Book:\n",
        "    def __init__(self, title, author, year_published):\n",
        "        self.title = title\n",
        "        self.author = author\n",
        "        self.year_published = year_published\n",
        "\n",
        "    def get_book_info(self):\n",
        "        return f\"'{self.title}' by {self.author}, published in {self.year_published}\"\n",
        "\n",
        "# Example\n",
        "book = Book(\"Namak ka Daroga\", \"Munshi Premchand\", 1925)\n",
        "print(book.get_book_info())"
      ],
      "metadata": {
        "colab": {
          "base_uri": "https://localhost:8080/"
        },
        "id": "fblRXFKTS8G_",
        "outputId": "3a31c5f5-00df-4b69-991f-29729e70c89d"
      },
      "execution_count": 14,
      "outputs": [
        {
          "output_type": "stream",
          "name": "stdout",
          "text": [
            "'Namak ka Daroga' by Munshi Premchand, published in 1925\n"
          ]
        }
      ]
    },
    {
      "cell_type": "code",
      "source": [
        "''' 18. Create a class House with attributes address and price. Create a derived class Mansion that adds an attribute number_of_rooms. '''\n",
        "class House:\n",
        "    def __init__(self, address, price):\n",
        "        self.address = address\n",
        "        self.price = price\n",
        "\n",
        "    def __str__(self):\n",
        "        return f\"Address: {self.address}, Price: ₹{self.price:.2f}\"\n",
        "\n",
        "class Mansion(House):\n",
        "    def __init__(self, address, price, number_of_rooms):\n",
        "        super().__init__(address, price)\n",
        "        self.number_of_rooms = number_of_rooms\n",
        "\n",
        "    def __str__(self):\n",
        "        return f\"{super().__str__()}, Number of Rooms: {self.number_of_rooms}\"\n",
        "\n",
        "# Example\n",
        "house = House(\"123 Main St\", 500000)\n",
        "print(house)"
      ],
      "metadata": {
        "colab": {
          "base_uri": "https://localhost:8080/"
        },
        "id": "9zRkxz6VToed",
        "outputId": "e478d369-29c2-416b-e0a9-03c65c0f793f"
      },
      "execution_count": 15,
      "outputs": [
        {
          "output_type": "stream",
          "name": "stdout",
          "text": [
            "Address: 123 Main St, Price: ₹500000.00\n"
          ]
        }
      ]
    }
  ]
}